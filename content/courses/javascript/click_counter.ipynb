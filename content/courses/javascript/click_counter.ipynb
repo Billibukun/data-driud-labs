{
 "cells": [
  {
   "cell_type": "markdown",
   "id": "95b63647",
   "metadata": {},
   "source": [
    "# Click Counter\n",
    "A simple interactive button that counts clicks."
   ]
  },
  {
   "cell_type": "code",
   "execution_count": null,
   "id": "602171a5",
   "metadata": {},
   "outputs": [],
   "source": [
    "\n",
    "let count = 0;\n",
    "const button = document.createElement('button');\n",
    "button.textContent = 'Clicks: 0';\n",
    "button.onclick = () => {\n",
    "  count++;\n",
    "  button.textContent = `Clicks: ${count}`;\n",
    "};\n",
    "document.body.appendChild(button);\n"
   ]
  }
 ],
 "metadata": {
  "kernelspec": {
   "display_name": "JavaScript",
   "language": "javascript",
   "name": "javascript"
  },
  "language_info": {
   "name": "javascript",
   "version": "es2017"
  }
 },
 "nbformat": 4,
 "nbformat_minor": 5
}
