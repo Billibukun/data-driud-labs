{
 "cells": [
  {
   "cell_type": "markdown",
   "id": "880bed49",
   "metadata": {},
   "source": [
    "# Area Calculator\n",
    "Compute area of a circle or rectangle."
   ]
  },
  {
   "cell_type": "code",
   "execution_count": null,
   "id": "9c191280",
   "metadata": {},
   "outputs": [],
   "source": [
    "shape = input('Choose shape (circle or rectangle): ')\n",
    "if shape == 'circle':\n",
    "    r = float(input('Enter radius: '))\n",
    "    area = 3.14159 * r * r\n",
    "elif shape == 'rectangle':\n",
    "    w = float(input('Enter width: '))\n",
    "    h = float(input('Enter height: '))\n",
    "    area = w * h\n",
    "else:\n",
    "    area = 0\n",
    "print('Area:', area)\n"
   ]
  }
 ],
 "metadata": {
  "kernelspec": {
   "display_name": "Python",
   "language": "python",
   "name": "python"
  },
  "language_info": {
   "name": "python"
  }
 },
 "nbformat": 4,
 "nbformat_minor": 5
}
