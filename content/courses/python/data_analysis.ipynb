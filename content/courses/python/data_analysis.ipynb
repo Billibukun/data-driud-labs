{
 "cells": [
  {
   "cell_type": "markdown",
   "id": "068fcd38",
   "metadata": {},
   "source": [
    "# Simple Data Analysis\n",
    "Use pandas to analyze a small dataset."
   ]
  },
  {
   "cell_type": "code",
   "execution_count": null,
   "id": "d4cdc8ac",
   "metadata": {},
   "outputs": [],
   "source": [
    "import pandas as pd\n",
    "data = {'name': ['A','B','C'], 'score': [85,92,78]}\n",
    "df = pd.DataFrame(data)\n",
    "print(df.describe())\n"
   ]
  }
 ],
 "metadata": {
  "kernelspec": {
   "display_name": "Python",
   "language": "python",
   "name": "python"
  },
  "language_info": {
   "name": "python"
  }
 },
 "nbformat": 4,
 "nbformat_minor": 5
}
