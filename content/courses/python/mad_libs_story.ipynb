{
 "cells": [
  {
   "cell_type": "markdown",
   "id": "67ecb285",
   "metadata": {},
   "source": [
    "# Mad Libs Story Generator\n",
    "Create a funny story from user-provided words."
   ]
  },
  {
   "cell_type": "code",
   "execution_count": null,
   "id": "2a271c92",
   "metadata": {},
   "outputs": [],
   "source": [
    "noun = input('Enter a noun: ')\n",
    "verb = input('Enter a verb: ')\n",
    "adj = input('Enter an adjective: ')\n",
    "print(f'The {adj} {noun} loves to {verb} every day.')\n"
   ]
  }
 ],
 "metadata": {
  "kernelspec": {
   "display_name": "Python",
   "language": "python",
   "name": "python"
  },
  "language_info": {
   "name": "python"
  }
 },
 "nbformat": 4,
 "nbformat_minor": 5
}
