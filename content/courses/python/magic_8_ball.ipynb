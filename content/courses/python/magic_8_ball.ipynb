{
 "cells": [
  {
   "cell_type": "markdown",
   "id": "09afb4cf",
   "metadata": {},
   "source": [
    "# Magic 8 Ball\n",
    "Ask a question and get a random answer."
   ]
  },
  {
   "cell_type": "code",
   "execution_count": null,
   "id": "ccdf5981",
   "metadata": {},
   "outputs": [],
   "source": [
    "import random\n",
    "responses = ['Yes', 'No', 'Maybe', 'Ask again later']\n",
    "question = input('Ask the Magic 8 Ball a question: ')\n",
    "print(random.choice(responses))\n"
   ]
  }
 ],
 "metadata": {
  "kernelspec": {
   "display_name": "Python",
   "language": "python",
   "name": "python"
  },
  "language_info": {
   "name": "python"
  }
 },
 "nbformat": 4,
 "nbformat_minor": 5
}
