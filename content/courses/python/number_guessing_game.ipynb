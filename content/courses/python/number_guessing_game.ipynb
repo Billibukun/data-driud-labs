{
 "cells": [
  {
   "cell_type": "markdown",
   "id": "ab79bdc1",
   "metadata": {},
   "source": [
    "# Number Guessing Game\n",
    "Try to guess the random number between 1 and 100."
   ]
  },
  {
   "cell_type": "code",
   "execution_count": null,
   "id": "9335eb04",
   "metadata": {},
   "outputs": [],
   "source": [
    "import random\n",
    "number = random.randint(1, 100)\n",
    "while True:\n",
    "    guess = int(input('Guess the number: '))\n",
    "    if guess < number:\n",
    "        print('Too low!')\n",
    "    elif guess > number:\n",
    "        print('Too high!')\n",
    "    else:\n",
    "        print('Correct!')\n",
    "        break\n"
   ]
  }
 ],
 "metadata": {
  "kernelspec": {
   "display_name": "Python",
   "language": "python",
   "name": "python"
  },
  "language_info": {
   "name": "python"
  }
 },
 "nbformat": 4,
 "nbformat_minor": 5
}
