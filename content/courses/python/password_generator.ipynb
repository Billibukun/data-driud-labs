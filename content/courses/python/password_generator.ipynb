{
 "cells": [
  {
   "cell_type": "markdown",
   "id": "a4b37c2b",
   "metadata": {},
   "source": [
    "# Password Generator\n",
    "Generate a random password."
   ]
  },
  {
   "cell_type": "code",
   "execution_count": null,
   "id": "aa85e128",
   "metadata": {},
   "outputs": [],
   "source": [
    "import random, string\n",
    "length = int(input('Password length: '))\n",
    "chars = string.ascii_letters + string.digits\n",
    "password = ''.join(random.choice(chars) for _ in range(length))\n",
    "print('Generated password:', password)\n"
   ]
  }
 ],
 "metadata": {
  "kernelspec": {
   "display_name": "Python",
   "language": "python",
   "name": "python"
  },
  "language_info": {
   "name": "python"
  }
 },
 "nbformat": 4,
 "nbformat_minor": 5
}
