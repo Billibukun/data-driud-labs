{
 "cells": [
  {
   "cell_type": "markdown",
   "id": "60f17a10",
   "metadata": {},
   "source": [
    "# Quiz Program\n",
    "Answer questions and get your score."
   ]
  },
  {
   "cell_type": "code",
   "execution_count": null,
   "id": "bdc5c32c",
   "metadata": {},
   "outputs": [],
   "source": [
    "questions = {'Capital of France?': 'Paris', '2 + 2?': '4'}\n",
    "score = 0\n",
    "for q, a in questions.items():\n",
    "    if input(q + ' ').strip().lower() == a.lower():\n",
    "        score += 1\n",
    "print('Score:', score, '/', len(questions))\n"
   ]
  }
 ],
 "metadata": {
  "kernelspec": {
   "display_name": "Python",
   "language": "python",
   "name": "python"
  },
  "language_info": {
   "name": "python"
  }
 },
 "nbformat": 4,
 "nbformat_minor": 5
}
