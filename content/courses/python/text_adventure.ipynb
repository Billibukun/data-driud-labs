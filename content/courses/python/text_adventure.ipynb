{
 "cells": [
  {
   "cell_type": "markdown",
   "id": "2515c775",
   "metadata": {},
   "source": [
    "# Text-Based Adventure Game\n",
    "Make choices in a simple adventure."
   ]
  },
  {
   "cell_type": "code",
   "execution_count": null,
   "id": "60e28adf",
   "metadata": {},
   "outputs": [],
   "source": [
    "name = input('Enter your name: ')\n",
    "print('Welcome', name)\n",
    "choice = input('You see a fork in the road. Left or Right? ')\n",
    "if choice.lower() == 'left':\n",
    "    print('You encounter a dragon. Game over.')\n",
    "else:\n",
    "    print('You find a treasure chest. You win!')\n"
   ]
  }
 ],
 "metadata": {
  "kernelspec": {
   "display_name": "Python",
   "language": "python",
   "name": "python"
  },
  "language_info": {
   "name": "python"
  }
 },
 "nbformat": 4,
 "nbformat_minor": 5
}
