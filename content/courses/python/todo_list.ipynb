{
 "cells": [
  {
   "cell_type": "markdown",
   "id": "25e26f32",
   "metadata": {},
   "source": [
    "# To-Do List\n",
    "Manage tasks with a simple console to-do list."
   ]
  },
  {
   "cell_type": "code",
   "execution_count": null,
   "id": "d2f0ffcb",
   "metadata": {},
   "outputs": [],
   "source": [
    "todo = []\n",
    "while True:\n",
    "    action = input('Add, Show, or Quit: ').lower()\n",
    "    if action == 'add':\n",
    "        item = input('Item: ')\n",
    "        todo.append(item)\n",
    "    elif action == 'show':\n",
    "        for i, item in enumerate(todo, 1):\n",
    "            print(i, item)\n",
    "    elif action == 'quit':\n",
    "        break\n"
   ]
  }
 ],
 "metadata": {
  "kernelspec": {
   "display_name": "Python",
   "language": "python",
   "name": "python"
  },
  "language_info": {
   "name": "python"
  }
 },
 "nbformat": 4,
 "nbformat_minor": 5
}
