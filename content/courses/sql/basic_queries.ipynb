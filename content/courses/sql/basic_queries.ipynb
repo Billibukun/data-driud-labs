{
 "cells": [
  {
   "cell_type": "markdown",
   "id": "37ebb105",
   "metadata": {},
   "source": [
    "# Basic SQL with sqlite3\n",
    "Create a table and run a simple query."
   ]
  },
  {
   "cell_type": "code",
   "execution_count": null,
   "id": "13f7b0bf",
   "metadata": {},
   "outputs": [],
   "source": [
    "\n",
    "import sqlite3\n",
    "con = sqlite3.connect(':memory:')\n",
    "cur = con.cursor()\n",
    "cur.execute('CREATE TABLE students (name TEXT, score INTEGER)')\n",
    "cur.executemany('INSERT INTO students VALUES (?,?)', [('Alice',90),('Bob',85),('Cara',92)])\n",
    "con.commit()\n",
    "for row in cur.execute('SELECT name, score FROM students WHERE score > 88'):\n",
    "    print(row)\n",
    "con.close()\n"
   ]
  }
 ],
 "metadata": {
  "kernelspec": {
   "display_name": "Python",
   "language": "python",
   "name": "python"
  },
  "language_info": {
   "name": "python"
  }
 },
 "nbformat": 4,
 "nbformat_minor": 5
}
