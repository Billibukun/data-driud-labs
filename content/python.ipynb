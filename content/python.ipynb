{
 "cells": [
  {
   "cell_type": "markdown",
   "metadata": {},
   "source": [
    "# Multi-provider AI demo\n",
    "Use the widget below to choose a provider and model, then send a prompt."
   ]
  },
  {
   "cell_type": "code",
   "execution_count": null,
   "metadata": {},
   "outputs": [],
   "source": [
    "import ipywidgets as widgets\n",
    "from ai_agent import load_keys, list_models, select_model\n",
    "provider_dd = widgets.Dropdown(options=['openai', 'google', 'anthropic', 'groq'], description='Provider')\n",
    "model_dd = widgets.Dropdown(description='Model')\n",
    "prompt = widgets.Text(description='Prompt', value='Hello AI')\n",
    "output = widgets.Output()\n",
    "\n",
    "def _update_models(*_):\n",
    "    try:\n",
    "        model_dd.options = list_models(provider_dd.value)\n",
    "    except Exception as e:\n",
    "        model_dd.options = []\n",
    "        output.clear_output()\n",
    "        with output:\n",
    "            print(e)\n",
    "\n",
    "def _send(_):\n",
    "    output.clear_output()\n",
    "    with output:\n",
    "        print(f'Selected {select_model(provider_dd.value, model_dd.value)} for prompt: {prompt.value}')\n",
    "\n",
    "provider_dd.observe(_update_models, 'value')\n",
    "send_btn = widgets.Button(description='Send')\n",
    "send_btn.on_click(_send)\n",
    "display(provider_dd, model_dd, prompt, send_btn, output)"
   ]
  }
 ],
 "metadata": {
  "kernelspec": {
   "display_name": "Python 3",
   "language": "python",
   "name": "python"
  },
  "language_info": {
   "name": "python",
   "pygments_lexer": "ipython3"
  }
 },
 "nbformat": 4,
 "nbformat_minor": 5
}
