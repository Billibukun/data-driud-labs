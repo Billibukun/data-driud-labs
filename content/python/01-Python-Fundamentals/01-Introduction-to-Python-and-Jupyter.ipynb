{
 "cells": [
  {
   "cell_type": "markdown",
   "metadata": {},
   "source": [
    "# Module 1: Python Fundamentals\n",
    "## Lesson 1: Introduction to Python and Jupyter Notebooks\n",
    "\n",
    "Welcome to your first lesson in Python programming! In this lesson, we will explore:\n",
    "\n",
    "- What Python is and why it's a great language to learn.\n",
    "- What Jupyter Notebooks are and how to use them to write and run code.\n",
    "- How to write your first line of Python code."
   ]
  },
  {
   "cell_type": "markdown",
   "metadata": {},
   "source": [
    "### What is Python?\n",
    "\n",
    "Python is a high-level, versatile programming language known for its readability and simple syntax. It was created by Guido van Rossum and first released in 1991. It's used for:\n",
    "\n",
    "- Web Development\n",
    "- Data Science & Machine Learning\n",
    "- Automation and Scripting\n",
    "- Game Development\n",
    "- and much more!\n",
    "\n",
    "Its large collection of libraries makes it a powerful tool for solving complex problems with just a few lines of code."
   ]
  },
  {
   "cell_type": "markdown",
   "metadata": {},
   "source": [
    "### What is a Jupyter Notebook?\n",
    "\n",
    "You are currently in a Jupyter Notebook! It's an interactive environment that allows you to write and run code, display text, and show images all in one place. Notebooks are made of **cells**.\n",
    "\n",
    "There are two main types of cells:\n",
    "1.  **Code cells:** Where you write and execute your Python code.\n",
    "2.  **Markdown cells:** Like this one, where you can write formatted text to explain your code and concepts.\n",
    "\n",
    "To run a cell, you can click on it and then press the **Run** button in the toolbar above, or use the keyboard shortcut `Shift + Enter`."
   ]
  },
  {
   "cell_type": "markdown",
   "metadata": {},
   "source": [
    "### Your First Line of Code\n",
    "\n",
    "Programming tradition dictates that your first program should print the words \"Hello, World!\". Let's do that.\n",
    "\n",
    "The cell below is a **code cell**. It contains a Python command: `print()`. The `print()` function is used to display output.\n",
    "\n",
    "Click on the code cell below and press `Shift + Enter` to run it. You should see the output `Hello, World!` appear right below the cell."
   ]
  },
  {
   "cell_type": "code",
   "execution_count": null,
   "metadata": {},
   "outputs": [],
   "source": [
    "print(\"Hello, World!\")"
   ]
  },
  {
   "cell_type": "markdown",
   "metadata": {},
   "source": [
    "### Congratulations!\n",
    "\n",
    "You've just written and executed your first line of Python code. You are officially a programmer!\n",
    "\n",
    "In the next lesson, we will learn about **variables** and **data types**, the fundamental building blocks of any program."
   ]
  }
 ],
 "metadata": {
  "kernelspec": {
   "display_name": "Python 3",
   "language": "python",
   "name": "python3"
  },
  "language_info": {
   "name": "python",
   "version": "3.10.12"
  }
 },
 "nbformat": 4,
 "nbformat_minor": 5
}
