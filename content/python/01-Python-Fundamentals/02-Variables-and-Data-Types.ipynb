{
 "cells": [
  {
   "cell_type": "markdown",
   "metadata": {},
   "source": [
    "# Lesson 2: Variables and Data Types\n",
    "\n",
    "In the last lesson, you wrote your first line of code. Now, let's learn how to store and manage information in Python. We do this using **variables**."
   ]
  },
  {
   "cell_type": "markdown",
   "metadata": {},
   "source": [
    "### What is a Variable?\n",
    "\n",
    "Think of a variable as a labeled box where you can store information. You give the box a name (the variable name), and you can put stuff inside it (the value). You can change the contents of the box later if you want.\n",
    "\n",
    "To create a variable in Python, you use the assignment operator, which is the equals sign (`=`)."
   ]
  },
  {
   "cell_type": "code",
   "execution_count": null,
   "metadata": {},
   "outputs": [],
   "source": [
    "# Let's create a variable named 'message' and store the text \"Hello, Python!\" in it.\n",
    "message = \"Hello, Python!\"\n",
    "\n",
    "# Now, let's print the value stored in the 'message' variable.\n",
    "print(message)"
   ]
  },
  {
   "cell_type": "markdown",
   "metadata": {},
   "source": [
    "### Data Types\n",
    "\n",
    "The 'stuff' you store in your variables can be of different types. These are called **data types**. Let's look at the most common ones."
   ]
  },
  {
   "cell_type": "markdown",
   "metadata": {},
   "source": [
    "#### 1. Strings (`str`)\n",
    "A string is a sequence of characters, like text. You create strings by putting quotes around the text. You can use either single (`'`) or double (`\"`) quotes.\n",
    "\n",
    "Example: `\"Hello, World!\"`, `'Python is fun'`"
   ]
  },
  {
   "cell_type": "code",
   "execution_count": null,
   "metadata": {},
   "outputs": [],
   "source": [
    "student_name = \"Alex\"\n",
    "print(student_name)"
   ]
  },
  {
   "cell_type": "markdown",
   "metadata": {},
   "source": [
    "#### 2. Integers (`int`)\n",
    "Integers are whole numbers, without any decimal points.\n",
    "\n",
    "Example: `10`, `-5`, `0`"
   ]
  },
  {
   "cell_type": "code",
   "execution_count": null,
   "metadata": {},
   "outputs": [],
   "source": [
    "age = 14\n",
    "print(age)"
   ]
  },
  {
   "cell_type": "markdown",
   "metadata": {},
   "source": [
    "#### 3. Floats (`float`)\n",
    "Floats are numbers that have a decimal point.\n",
    "\n",
    "Example: `3.14`, `-0.5`, `2.0`"
   ]
  },
  {
   "cell_type": "code",
   "execution_count": null,
   "metadata": {},
   "outputs": [],
   "source": [
    "price = 2.50\n",
    "print(price)"
   ]
  },
  {
   "cell_type": "markdown",
   "metadata": {},
   "source": [
    "#### 4. Booleans (`bool`)\n",
    "Booleans can only have one of two values: `True` or `False`. They are very useful for making decisions in your code.\n",
    "\n",
    "Example: `True`, `False`"
   ]
  },
  {
   "cell_type": "code",
   "execution_count": null,
   "metadata": {},
   "outputs": [],
   "source": [
    "is_student = True\n",
    "print(is_student)"
   ]
  },
  {
   "cell_type": "markdown",
   "metadata": {},
   "source": [
    "### The `type()` function\n",
    "\n",
    "You can check the data type of a variable using the `type()` function."
   ]
  },
  {
   "cell_type": "code",
   "execution_count": null,
   "metadata": {},
   "outputs": [],
   "source": [
    "print(type(student_name))\n",
    "print(type(age))\n",
    "print(type(price))\n",
    "print(type(is_student))"
   ]
  },
  {
   "cell_type": "markdown",
   "metadata": {},
   "source": [
    "### Practice Time!\n",
    "\n",
    "Now it's your turn. In the cell below, create a variable for your favorite color and print it."
   ]
  },
  {
   "cell_type": "code",
   "execution_count": null,
   "metadata": {},
   "outputs": [],
   "source": [
    "# Create your variable here"
   ]
  },
  {
   "cell_type": "markdown",
   "metadata": {},
   "source": [
    "Great job! You now know how to use variables to store different types of data.\n",
    "\n",
    "In the next lesson, we'll learn about **operators**, which let you perform calculations and comparisons with your variables."
   ]
  }
 ],
 "metadata": {
  "kernelspec": {
   "display_name": "Python 3",
   "language": "python",
   "name": "python3"
  },
  "language_info": {
   "name": "python",
   "version": "3.10.12"
  }
 },
 "nbformat": 4,
 "nbformat_minor": 5
}
