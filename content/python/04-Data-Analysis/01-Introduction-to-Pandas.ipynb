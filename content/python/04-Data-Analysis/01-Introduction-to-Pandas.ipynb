{
 "cells": [
  {
   "cell_type": "markdown",
   "metadata": {},
   "source": [
    "# Module 4: Introduction to Data Analysis\n",
    "## Lesson 1: Introduction to Pandas\n",
    "\n",
    "Welcome to the world of data analysis! In this module, you'll learn how to use powerful libraries to work with data. We'll start with **Pandas**, the most popular library for data manipulation and analysis in Python."
   ]
  },
  {
   "cell_type": "markdown",
   "metadata": {},
   "source": [
    "### What is Pandas?\n",
    "\n",
    "Pandas provides high-performance, easy-to-use data structures and data analysis tools. The primary data structure in Pandas is the **DataFrame**."
   ]
  },
  {
   "cell_type": "markdown",
   "metadata": {},
   "source": [
    "### What is a DataFrame?\n",
    "\n",
    "A DataFrame is a 2-dimensional labeled data structure with columns of potentially different types. You can think of it as a spreadsheet, a SQL table, or a dictionary of Series objects."
   ]
  },
  {
   "cell_type": "markdown",
   "metadata": {},
   "source": [
    "### Reading Data\n",
    "\n",
    "One of the most common tasks is to read data from a file. Pandas can read from a variety of file formats, including CSV (Comma-Separated Values). We'll use the `read_csv()` function. We have provided a sample file at `../data/sample_student_data.csv`."
   ]
  },
  {
   "cell_type": "code",
   "execution_count": null,
   "metadata": {},
   "outputs": [],
   "source": [
    "import pandas as pd # It's a standard convention to import pandas as pd\n",
    "\n",
    "# Load the data from the CSV file into a DataFrame\n",
    "df = pd.read_csv('../data/sample_student_data.csv')\n",
    "\n",
    "# Display the first 5 rows of the DataFrame\n",
    "df.head()"
   ]
  },
  {
   "cell_type": "markdown",
   "metadata": {},
   "source": [
    "### Exploring the Data\n",
    "\n",
    "Pandas provides many useful functions to quickly explore your data."
   ]
  },
  {
   "cell_type": "code",
   "execution_count": null,
   "metadata": {},
   "outputs": [],
   "source": [
    "# Get the dimensions of the DataFrame (rows, columns)\n",
    "print(\"Shape of the data:\", df.shape)\n",
    "\n",
    "# Get a concise summary of the DataFrame\n",
    "print(\"\\nInfo:\")\n",
    "df.info()\n",
    "\n",
    "# Get descriptive statistics for the numerical columns\n",
    "print(\"\\nDescription:\")\n",
    "df.describe()"
   ]
  },
  {
   "cell_type": "markdown",
   "metadata": {},
   "source": [
    "### Selecting Data\n",
    "\n",
    "You can select columns and rows to work with specific parts of your data."
   ]
  },
  {
   "cell_type": "code",
   "execution_count": null,
   "metadata": {},
   "outputs": [],
   "source": [
    "# Select a single column\n",
    "names = df['Name']\n",
    "print(\"The 'Name' column:\")\n",
    "print(names)\n",
    "\n",
    "# Select multiple columns\n",
    "name_and_grade = df[['Name', 'Grade']]\n",
    "print(\"\\nThe 'Name' and 'Grade' columns:\")\n",
    "print(name_and_grade)"
   ]
  },
  {
   "cell_type": "markdown",
   "metadata": {},
   "source": [
    "### Filtering Data\n",
    "\n",
    "You can also filter your data based on conditions."
   ]
  },
  {
   "cell_type": "code",
   "execution_count": null,
   "metadata": {},
   "outputs": [],
   "source": [
    "# Find all students who scored 90 or above\n",
    "high_achievers = df[df['Grade'] >= 90]\n",
    "print(high_achievers)"
   ]
  },
  {
   "cell_type": "markdown",
   "metadata": {},
   "source": [
    "### Practice Time!\n",
    "\n",
    "1. Find the average (mean) grade of all students.\n",
    "2. Select all students who are 15 years old."
   ]
  },
  {
   "cell_type": "code",
   "execution_count": null,
   "metadata": {},
   "outputs": [],
   "source": [
    "# Write your code here"
   ]
  },
  {
   "cell_type": "markdown",
   "metadata": {},
   "source": [
    "This is just the beginning of what you can do with Pandas! \n",
    "\n",
    "Next, we'll learn how to create visualizations from our data using **Matplotlib**."
   ]
  }
 ],
 "metadata": {
  "kernelspec": {
   "display_name": "Python 3",
   "language": "python",
   "name": "python3"
  },
  "language_info": {
   "name": "python",
   "version": "3.10.12"
  }
 },
 "nbformat": 4,
 "nbformat_minor": 5
}
