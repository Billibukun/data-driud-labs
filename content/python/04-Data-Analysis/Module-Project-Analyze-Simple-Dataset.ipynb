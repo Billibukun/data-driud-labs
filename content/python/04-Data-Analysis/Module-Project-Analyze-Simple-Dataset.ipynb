{
 "cells": [
  {
   "cell_type": "markdown",
   "metadata": {},
   "source": [
    "# Module 4 Project: Analyze a Simple Dataset\n",
    "\n",
    "In this project, you will apply your new Pandas and Matplotlib skills to load, explore, and visualize a dataset. This is what a data analyst does every day!"
   ]
  },
  {
   "cell_type": "markdown",
   "metadata": {},
   "source": [
    "### The Goal\n",
    "\n",
    "Your task is to use the `sample_student_data.csv` dataset to answer the following questions:\n",
    "1. What is the average grade for each age group?\n",
    "2. Which student has the highest grade?\n",
    "3. Create a pie chart showing the proportion of students of each age."
   ]
  },
  {
   "cell_type": "markdown",
   "metadata": {},
   "source": [
    "### Project Steps"
   ]
  },
  {
   "cell_type": "code",
   "execution_count": null,
   "metadata": {},
   "outputs": [],
   "source": [
    "import pandas as pd\n",
    "import matplotlib.pyplot as plt\n",
    "\n",
    "# Load the dataset\n",
    "df = pd.read_csv('../data/sample_student_data.csv')"
   ]
  },
  {
   "cell_type": "markdown",
   "metadata": {},
   "source": [
    "#### 1. What is the average grade for each age group?\n",
    "To solve this, we can use the `groupby()` function in Pandas."
   ]
  },
  {
   "cell_type": "code",
   "execution_count": null,
   "metadata": {},
   "outputs": [],
   "source": [
    "average_grade_by_age = df.groupby('Age')['Grade'].mean()\n",
    "print(\"Average grade by age:\")\n",
    "print(average_grade_by_age)"
   ]
  },
  {
   "cell_type": "markdown",
   "metadata": {},
   "source": [
    "#### 2. Which student has the highest grade?\n",
    "We can sort the DataFrame by the 'Grade' column in descending order and take the first row."
   ]
  },
  {
   "cell_type": "code",
   "execution_count": null,
   "metadata": {},
   "outputs": [],
   "source": [
    "top_student = df.sort_values(by='Grade', ascending=False).iloc[0]\n",
    "print(\"\\nTop student:\")\n",
    "print(top_student)"
   ]
  },
  {
   "cell_type": "markdown",
   "metadata": {},
   "source": [
    "#### 3. Create a pie chart showing the proportion of students of each age.\n",
    "First, we need to count how many students there are for each age. The `value_counts()` function is perfect for this."
   ]
  },
  {
   "cell_type": "code",
   "execution_count": null,
   "metadata": {},
   "outputs": [],
   "source": [
    "age_counts = df['Age'].value_counts()\n",
    "\n",
    "plt.figure(figsize=(8, 8))\n",
    "plt.pie(age_counts, labels=age_counts.index, autopct='%1.1f%%', startangle=140, colors=['#ff9999','#66b3ff','#99ff99','#ffcc99'])\n",
    "plt.title('Proportion of Students by Age')\n",
    "plt.ylabel('') # Hide the y-label\n",
    "plt.show()"
   ]
  },
  {
   "cell_type": "markdown",
   "metadata": {},
   "source": [
    "### Congratulations!\n",
    "\n",
    "You have successfully performed a small data analysis project from start to finish. You loaded data, asked questions, analyzed the data to find answers, and created a visualization to communicate your findings. These are the core skills of a data analyst.\n",
    "\n",
    "You are now ready to move on to the next module, where you will learn about **Version Control with Git**."
   ]
  }
 ],
 "metadata": {
  "kernelspec": {
   "display_name": "Python 3",
   "language": "python",
   "name": "python3"
  },
  "language_info": {
   "name": "python",
   "version": "3.10.12"
  }
 },
 "nbformat": 4,
 "nbformat_minor": 5
}
