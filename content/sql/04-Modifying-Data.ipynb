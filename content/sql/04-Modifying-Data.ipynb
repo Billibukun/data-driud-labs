{
 "cells": [
  {
   "cell_type": "markdown",
   "metadata": {},
   "source": [
    "# Lesson 4: Modifying Data\n",
    "\n",
    "Besides querying data, a key part of SQL is modifying it. In this lesson, we'll learn about `INSERT`, `UPDATE`, and `DELETE`."
   ]
  },
  {
   "cell_type": "markdown",
   "metadata": {},
   "source": [
    "### Setup\n",
    "\n",
    "First, let's run the setup code again to initialize our database and create the `students` table."
   ]
  },
  {
   "cell_type": "code",
   "execution_count": null,
   "metadata": {},
   "outputs": [],
   "source": [
    "import pyodide_http\n",
    "pyodide_http.patch_all()\n",
    "import pandas as pd\n",
    "import duckdb\n",
    "%load_ext sql\n",
    "%config SqlMagic.autopandas = True\n",
    "%config SqlMagic.feedback = False\n",
    "%config SqlMagic.displaycon = False\n",
    "%sql duckdb:///:memory:\n",
    "\n",
    "%%sql\n",
    "CREATE TABLE students (StudentID int, Name varchar, Age int, Grade int);\n",
    "INSERT INTO students VALUES (1, 'Alice', 14, 90), (2, 'Bob', 15, 85), (3, 'Charlie', 14, 92);"
   ]
  },
  {
   "cell_type": "markdown",
   "metadata": {},
   "source": [
    "### `INSERT INTO` - Adding New Data\n",
    "\n",
    "The `INSERT INTO` statement is used to add new rows of data to a table."
   ]
  },
  {
   "cell_type": "code",
   "execution_count": null,
   "metadata": {},
   "outputs": [],
   "source": [
    "%%sql\n",
    "INSERT INTO students (StudentID, Name, Age, Grade) VALUES (4, 'Diana', 16, 88);\n",
    "\n",
    "-- Let's check the table to see the new student\n",
    "SELECT * FROM students;"
   ]
  },
  {
   "cell_type": "markdown",
   "metadata": {},
   "source": [
    "### `UPDATE` - Modifying Existing Data\n",
    "\n",
    "The `UPDATE` statement is used to modify existing records in a table. It's crucial to use a `WHERE` clause with `UPDATE`, otherwise you will update all rows in the table!"
   ]
  },
  {
   "cell_type": "code",
   "execution_count": null,
   "metadata": {},
   "outputs": [],
   "source": [
    "%%sql\n",
    "-- Let's give Bob a 2-point grade boost\n",
    "UPDATE students SET Grade = 87 WHERE Name = 'Bob';\n",
    "\n",
    "SELECT * FROM students;"
   ]
  },
  {
   "cell_type": "markdown",
   "metadata": {},
   "source": [
    "### `DELETE` - Removing Data\n",
    "\n",
    "The `DELETE` statement is used to delete existing records. Just like `UPDATE`, you must use a `WHERE` clause to specify which record(s) to delete."
   ]
  },
  {
   "cell_type": "code",
   "execution_count": null,
   "metadata": {},
   "outputs": [],
   "source": [
    "%%sql\n",
    "-- Let's remove Charlie from the table\n",
    "DELETE FROM students WHERE Name = 'Charlie';\n",
    "\n",
    "SELECT * FROM students;"
   ]
  },
  {
   "cell_type": "markdown",
   "metadata": {},
   "source": [
    "### Congratulations!\n",
    "You now know the four fundamental operations of SQL, often called **CRUD**:\n",
    "- **C**reate (`INSERT`)\n",
    "- **R**ead (`SELECT`)\n",
    "- **U**pdate (`UPDATE`)\n",
    "- **D**elete (`DELETE`)\n",
    "\n",
    "This concludes our introductory module on SQL!"
   ]
  }
 ],
 "metadata": {
  "kernelspec": {
   "display_name": "Python 3",
   "language": "python",
   "name": "python3"
  },
  "language_info": {
   "name": "python",
   "version": "3.10.12"
  }
 },
 "nbformat": 4,
 "nbformat_minor": 5
}
