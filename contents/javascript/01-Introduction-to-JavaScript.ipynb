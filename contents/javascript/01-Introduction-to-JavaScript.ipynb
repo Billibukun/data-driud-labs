{
 "cells": [
  {
   "cell_type": "markdown",
   "metadata": {},
   "source": [
    "# Module 9: Introduction to JavaScript\n",
    "## Lesson 1: What is JavaScript?\n",
    "\n",
    "Welcome to your introduction to JavaScript! While Python is fantastic for backend development and data science, JavaScript is the **language of the web browser**."
   ]
  },
  {
   "cell_type": "markdown",
   "metadata": {},
   "source": [
    "### What is JavaScript?\n",
    "\n",
    "JavaScript (often shortened to JS) is a programming language that allows you to implement complex features on web pages. Every time a webpage does more than just sit there and display static information – for instance, showing interactive maps, animated graphics, or content updates – you can bet that JavaScript is involved.\n",
    "\n",
    "It runs directly in the user's web browser (like Chrome, Firefox, or Edge), which makes it very fast for creating interactive experiences."
   ]
  },
  {
   "cell_type": "markdown",
   "metadata": {},
   "source": [
    "### What is it used for?\n",
    "\n",
    "-   **Making websites interactive:** This is its primary and original purpose. It can change HTML and CSS on the fly.\n",
    "-   **Building web applications:** Modern, complex web apps (like Google Docs or Facebook) are built using JavaScript frameworks.\n",
    "-   **Backend development:** With environments like Node.js, JavaScript can also be used to write server-side code, just like Python!\n",
    "-   **Mobile apps, desktop apps, and more.**"
   ]
  },
  {
   "cell_type": "markdown",
   "metadata": {},
   "source": [
    "### JavaScript vs. Python\n",
    "\n",
    "| Feature | Python | JavaScript |\n",
    "|---|---|---|\n",
    "| **Primary Use** | Backend, Data Science, Scripting | Frontend (Web Browser), Backend (Node.js) |\n",
    "| **Syntax** | Emphasizes readability, uses indentation | C-style syntax, uses curly braces `{}` and semicolons `;` |\n",
    "| **Typing** | Strong, Dynamic | Weak, Dynamic |\n",
    "\n",
    "They are both powerful, high-level languages, and learning both is a huge advantage for any developer."
   ]
  },
  {
   "cell_type": "markdown",
   "metadata": {},
   "source": [
    "### Your First JavaScript Code\n",
    "\n",
    "In a web browser, you can open the developer console (usually by pressing F12) and type JavaScript code directly. The `console.log()` function is the equivalent of Python's `print()`."
   ]
  },
  {
   "cell_type": "code",
   "execution_count": null,
   "metadata": {},
   "outputs": [],
   "source": [
    "// This is a JavaScript code block.\n",
    "// Note the use of // for comments.\n",
    "console.log(\"Hello, JavaScript!\");"
   ],
   "language": "javascript"
  },
  {
   "cell_type": "markdown",
   "metadata": {},
   "source": [
    "In the next lesson, we will learn about the fundamental building blocks of JavaScript: variables, data types, and functions."
   ]
  }
 ],
 "metadata": {
  "kernelspec": {
   "display_name": "JavaScript",
   "language": "javascript",
   "name": "javascript"
  },
  "language_info": {
   "name": "javascript"
  }
 },
 "nbformat": 4,
 "nbformat_minor": 5
}
