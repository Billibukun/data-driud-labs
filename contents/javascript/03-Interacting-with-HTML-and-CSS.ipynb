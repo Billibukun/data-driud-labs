{
 "cells": [
  {
   "cell_type": "markdown",
   "metadata": {},
   "source": [
    "# Lesson 3: Interacting with HTML and CSS\n",
    "\n",
    "The real power of JavaScript in the browser is its ability to interact with the webpage's content. It does this through something called the **Document Object Model**, or **DOM**."
   ]
  },
  {
   "cell_type": "markdown",
   "metadata": {},
   "source": [
    "### What is the DOM?\n",
    "\n",
    "When a web browser loads an HTML document, it creates a model of that page in memory. The DOM is this model. It represents the page as a tree of objects, where each object corresponds to a part of the page (like an element, an attribute, or a piece of text).\n",
    "\n",
    "JavaScript can access and modify this DOM tree, which in turn changes what the user sees on the page."
   ]
  },
  {
   "cell_type": "markdown",
   "metadata": {},
   "source": [
    "### Selecting Elements\n",
    "\n",
    "To change an element, you first have to select it. The most common way to do this is with `document.getElementById()`."
   ]
  },
  {
   "cell_type": "markdown",
   "metadata": {},
   "source": [
    "**Example HTML:**\n",
    "```html\n",
    "<h1 id=\\\"main-title\\\">Hello, World!</h1>\n",
    "```"
   ]
  },
  {
   "cell_type": "code",
   "execution_count": null,
   "metadata": {},
   "outputs": [],
   "source": [
    "// In a real script, this would find the h1 element in the HTML\n",
    "const titleElement = document.getElementById(\"main-title\");"
   ],
   "language": "javascript"
  },
  {
   "cell_type": "markdown",
   "metadata": {},
   "source": [
    "### Modifying Elements\n",
    "\n",
    "Once you've selected an element, you can change its properties, like its text content or its style."
   ]
  },
  {
   "cell_type": "code",
   "execution_count": null,
   "metadata": {},
   "outputs": [],
   "source": [
    "// Change the text content\n",
    "// titleElement.textContent = \"Hello, JavaScript!\";\n",
    "\n",
    "// Change the color to red\n",
    "// titleElement.style.color = \"red\";"
   ],
   "language": "javascript"
  },
  {
   "cell_type": "markdown",
   "metadata": {},
   "source": [
    "### Handling Events\n",
    "\n",
    "JavaScript can also listen for **events**, like a user clicking a button. This is how you make a page truly interactive."
   ]
  },
  {
   "cell_type": "markdown",
   "metadata": {},
   "source": [
    "**Example HTML:**\n",
    "```html\n",
    "<button id=\\\"my-button\\\">Click Me!</button>\n",
    "```"
   ]
  },
  {
   "cell_type": "code",
   "execution_count": null,
   "metadata": {},
   "outputs": [],
   "source": [
    "// const button = document.getElementById(\"my-button\");\n",
    "// \n",
    "// button.addEventListener(\"click\", function() {\n",
    "//   alert(\"Button was clicked!\");\n",
    "// });"
   ],
   "language": "javascript"
  },
  {
   "cell_type": "markdown",
   "metadata": {},
   "source": [
    "In the code above, we add an **event listener** to the button. When the 'click' event happens, the function we provided runs, and an alert box pops up.\n",
    "\n",
    "This concludes our brief introduction to JavaScript. You've learned what it is, its basic syntax, and how it can be used to bring web pages to life. This is a great foundation for anyone interested in web development!"
   ]
  }
 ],
 "metadata": {
  "kernelspec": {
   "display_name": "JavaScript",
   "language": "javascript",
   "name": "javascript"
  },
  "language_info": {
   "name": "javascript"
  }
 },
 "nbformat": 4,
 "nbformat_minor": 5
}
