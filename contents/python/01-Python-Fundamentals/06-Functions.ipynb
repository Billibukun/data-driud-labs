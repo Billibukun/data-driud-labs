{
 "cells": [
  {
   "cell_type": "markdown",
   "metadata": {},
   "source": [
    "# Lesson 6: Functions\n",
    "\n",
    "As our programs get bigger, we need a way to organize them. **Functions** are named blocks of code that perform a specific task. They help us reuse code and make our programs more readable."
   ]
  },
  {
   "cell_type": "markdown",
   "metadata": {},
   "source": [
    "### Defining a Function\n",
    "\n",
    "We use the `def` keyword to define a function. We give it a name, and we can also define parameters (inputs) that the function can accept."
   ]
  },
  {
   "cell_type": "code",
   "execution_count": null,
   "metadata": {},
   "outputs": [],
   "source": [
    "# This function greets the user\n",
    "def greet(name):\n",
    "    print(\"Hello, \" + name + \"! Welcome to the world of functions.\")"
   ]
  },
  {
   "cell_type": "markdown",
   "metadata": {},
   "source": [
    "### Calling a Function\n",
    "\n",
    "Once a function is defined, you can **call** it by its name and provide the required arguments (the actual values for the parameters)."
   ]
  },
  {
   "cell_type": "code",
   "execution_count": null,
   "metadata": {},
   "outputs": [],
   "source": [
    "greet(\"Alice\")\n",
    "greet(\"Bob\")"
   ]
  },
  {
   "cell_type": "markdown",
   "metadata": {},
   "source": [
    "### The `return` Statement\n",
    "\n",
    "Functions can also send a value back to the code that called them. We use the `return` statement for this."
   ]
  },
  {
   "cell_type": "code",
   "execution_count": null,
   "metadata": {},
   "outputs": [],
   "source": [
    "# This function adds two numbers and returns the result\n",
    "def add(a, b):\n",
    "    return a + b\n",
    "\n",
    "# We can store the returned value in a variable\n",
    "sum_result = add(5, 3)\n",
    "print(\"The sum is:\", sum_result)"
   ]
  },
  {
   "cell_type": "markdown",
   "metadata": {},
   "source": [
    "### Practice Time!\n",
    "\n",
    "1. Write a function called `multiply` that takes two numbers as input and returns their product.\n",
    "2. Call your `multiply` function with two numbers of your choice and print the result."
   ]
  },
  {
   "cell_type": "code",
   "execution_count": null,
   "metadata": {},
   "outputs": [],
   "source": [
    "# Write your function and call it here"
   ]
  },
  {
   "cell_type": "markdown",
   "metadata": {},
   "source": [
    "Amazing! You've learned one of the most important concepts in programming.\n",
    "\n",
    "This concludes our module on Python Fundamentals. In the final part of this module, you will use everything you've learned to build a small project: a simple calculator."
   ]
  }
 ],
 "metadata": {
  "kernelspec": {
   "display_name": "Python 3",
   "language": "python",
   "name": "python3"
  },
  "language_info": {
   "name": "python",
   "version": "3.10.12"
  }
 },
 "nbformat": 4,
 "nbformat_minor": 5
}
