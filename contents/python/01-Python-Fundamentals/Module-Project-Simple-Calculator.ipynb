{
 "cells": [
  {
   "cell_type": "markdown",
   "metadata": {},
   "source": [
    "# Module 1 Project: Simple Calculator\n",
    "\n",
    "Congratulations on making it to the first project! It's time to combine everything you've learned in Module 1: variables, data types, operators, control flow, and functions."
   ]
  },
  {
   "cell_type": "markdown",
   "metadata": {},
   "source": [
    "### The Goal\n",
    "\n",
    "Your task is to build a simple calculator that can perform addition, subtraction, multiplication, and division. The program should:\n",
    "1. Ask the user to choose an operation.\n",
    "2. Ask the user for two numbers.\n",
    "3. Perform the calculation and print the result."
   ]
  },
  {
   "cell_type": "markdown",
   "metadata": {},
   "source": [
    "### A New Tool: The `input()` function\n",
    "\n",
    "To get input from the user, we can use the `input()` function. It prompts the user with a message and waits for them to type something and press Enter. The function then **returns** the user's input as a **string**."
   ]
  },
  {
   "cell_type": "code",
   "execution_count": null,
   "metadata": {},
   "outputs": [],
   "source": [
    "user_name = input(\"What is your name? \")\n",
    "print(\"Hello, \" + user_name)"
   ]
  },
  {
   "cell_type": "markdown",
   "metadata": {},
   "source": [
    "**Important:** The `input()` function always returns a string. If you need to perform math, you'll need to convert the string to a number using `int()` or `float()`."
   ]
  },
  {
   "cell_type": "code",
   "execution_count": null,
   "metadata": {},
   "outputs": [],
   "source": [
    "age_string = input(\"How old are you? \")\n",
    "age_number = int(age_string) # Convert the string to an integer\n",
    "print(\"Next year you will be:\", age_number + 1)"
   ]
  },
  {
   "cell_type": "markdown",
   "metadata": {},
   "source": [
    "### Project Steps\n",
    "\n",
    "Now, let's build the calculator. I've broken it down into steps for you. Try to complete each part in the code cell below."
   ]
  },
  {
   "cell_type": "code",
   "execution_count": null,
   "metadata": {},
   "outputs": [],
   "source": [
    "# Step 1: Define functions for add, subtract, multiply, and divide.\n",
    "# Each function should take two numbers as input and return the result.\n",
    "\n",
    "# Your code here...\n",
    "\n",
    "\n",
    "# Step 2: Ask the user to choose an operation.\n",
    "print(\"Select operation:\")\n",
    "print(\"1. Add\")\n",
    "print(\"2. Subtract\")\n",
    "print(\"3. Multiply\")\n",
    "print(\"4. Divide\")\n",
    "\n",
    "# Your code here...\n",
    "choice = input(\"Enter choice(1/2/3/4): \")\n",
    "\n",
    "# Step 3: Ask the user for two numbers.\n",
    "# Remember to convert them to numbers (e.g., float) so you can do math!\n",
    "\n",
    "# Your code here...\n",
    "\n",
    "\n",
    "# Step 4: Use if/elif/else to check the user's choice and call the correct function.\n",
    "# Print the result.\n",
    "\n",
    "# Your code here...\n"
   ]
  },
  {
   "cell_type": "markdown",
   "metadata": {},
   "source": [
    "### Well Done!\n",
    "\n",
    "You've built your first complete program. This is a huge milestone! You've shown that you can combine all the fundamental concepts to create something useful.\n",
    "\n",
    "Feel free to expand this project. You could add more operations (like exponents), add error handling (what if the user tries to divide by zero?), or let the user do multiple calculations in a row.\n",
    "\n",
    "You are now ready to move on to **Module 2: Intermediate Python & Data Structures**."
   ]
  }
 ],
 "metadata": {
  "kernelspec": {
   "display_name": "Python 3",
   "language": "python",
   "name": "python3"
  },
  "language_info": {
   "name": "python",
   "version": "3.10.12"
  }
 },
 "nbformat": 4,
 "nbformat_minor": 5
}
