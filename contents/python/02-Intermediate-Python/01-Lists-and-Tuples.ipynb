{
 "cells": [
  {
   "cell_type": "markdown",
   "metadata": {},
   "source": [
    "# Module 2: Intermediate Python\n",
    "## Lesson 1: Lists and Tuples\n",
    "\n",
    "Welcome to Module 2! Now that you have the fundamentals down, let's explore more powerful ways to store and organize data. We'll start with **lists**."
   ]
  },
  {
   "cell_type": "markdown",
   "metadata": {},
   "source": [
    "### What is a List?\n",
    "\n",
    "A list is an ordered and changeable collection of items. You can think of it as a shopping list. You can add items, remove items, and the order matters. Lists are created with square brackets `[]`."
   ]
  },
  {
   "cell_type": "code",
   "execution_count": null,
   "metadata": {},
   "outputs": [],
   "source": [
    "fruits = [\"apple\", \"banana\", \"cherry\"]\n",
    "print(fruits)"
   ]
  },
  {
   "cell_type": "markdown",
   "metadata": {},
   "source": [
    "### Accessing Items\n",
    "\n",
    "You can access items in a list by referring to their index number. The first item has an index of 0."
   ]
  },
  {
   "cell_type": "code",
   "execution_count": null,
   "metadata": {},
   "outputs": [],
   "source": [
    "print(fruits[0]) # Get the first item\n",
    "print(fruits[1]) # Get the second item"
   ]
  },
  {
   "cell_type": "markdown",
   "metadata": {},
   "source": [
    "### Common List Methods\n",
    "\n",
    "Lists come with built-in 'methods' (which are like functions that belong to the list) to help you work with them."
   ]
  },
  {
   "cell_type": "code",
   "execution_count": null,
   "metadata": {},
   "outputs": [],
   "source": [
    "# Add an item to the end of the list\n",
    "fruits.append(\"orange\")\n",
    "print(\"After append:\", fruits)\n",
    "\n",
    "# Remove an item\n",
    "fruits.remove(\"banana\")\n",
    "print(\"After remove:\", fruits)\n",
    "\n",
    "# Get the number of items in the list\n",
    "print(\"Length of list:\", len(fruits))"
   ]
  },
  {
   "cell_type": "markdown",
   "metadata": {},
   "source": [
    "### What is a Tuple?\n",
    "\n",
    "A tuple is similar to a list, but it is **unchangeable** (immutable). Once you create a tuple, you cannot add, remove, or change its items. Tuples are created with round brackets `()`."
   ]
  },
  {
   "cell_type": "code",
   "execution_count": null,
   "metadata": {},
   "outputs": [],
   "source": [
    "coordinates = (10.0, 20.0)\n",
    "print(coordinates)\n",
    "\n",
    "# You can access items just like a list\n",
    "print(coordinates[0])"
   ]
  },
  {
   "cell_type": "markdown",
   "metadata": {},
   "source": [
    "Why use a tuple? They are faster than lists and are useful when you have data that you know should not change, like the coordinates of a point or the days of the week."
   ]
  },
  {
   "cell_type": "markdown",
   "metadata": {},
   "source": [
    "### Practice Time!\n",
    "\n",
    "1. Create a list of your favorite hobbies.\n",
    "2. Add a new hobby to the list.\n",
    "3. Print the second hobby in your list."
   ]
  },
  {
   "cell_type": "code",
   "execution_count": null,
   "metadata": {},
   "outputs": [],
   "source": [
    "# Write your code here"
   ]
  },
  {
   "cell_type": "markdown",
   "metadata": {},
   "source": [
    "Great! You've learned about two important data structures.\n",
    "\n",
    "Next, we'll learn about **dictionaries and sets**, which are other ways to store collections of data."
   ]
  }
 ],
 "metadata": {
  "kernelspec": {
   "display_name": "Python 3",
   "language": "python",
   "name": "python3"
  },
  "language_info": {
   "name": "python",
   "version": "3.10.12"
  }
 },
 "nbformat": 4,
 "nbformat_minor": 5
}
