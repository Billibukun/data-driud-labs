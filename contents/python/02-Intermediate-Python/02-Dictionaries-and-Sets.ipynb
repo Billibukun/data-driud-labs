{
 "cells": [
  {
   "cell_type": "markdown",
   "metadata": {},
   "source": [
    "# Lesson 2: Dictionaries and Sets\n",
    "\n",
    "Let's continue exploring Python's data structures. In this lesson, we'll learn about **dictionaries** and **sets**."
   ]
  },
  {
   "cell_type": "markdown",
   "metadata": {},
   "source": [
    "### What is a Dictionary?\n",
    "\n",
    "A dictionary is a collection of **key-value pairs**. It's like a real dictionary where you look up a word (the key) to find its definition (the value). Dictionaries are unordered, changeable, and indexed by keys. They are created with curly braces `{}`."
   ]
  },
  {
   "cell_type": "code",
   "execution_count": null,
   "metadata": {},
   "outputs": [],
   "source": [
    "student = {\n",
    "    \"name\": \"Alice\",\n",
    "    \"age\": 15,\n",
    "    \"grade\": 9\n",
    "}\n",
    "\n",
    "print(student)"
   ]
  },
  {
   "cell_type": "markdown",
   "metadata": {},
   "source": [
    "### Accessing Items\n",
    "\n",
    "You access the items of a dictionary by referring to its key name, inside square brackets."
   ]
  },
  {
   "cell_type": "code",
   "execution_count": null,
   "metadata": {},
   "outputs": [],
   "source": [
    "print(\"Student's name:\", student[\"name\"])"
   ]
  },
  {
   "cell_type": "markdown",
   "metadata": {},
   "source": [
    "### Modifying a Dictionary\n",
    "\n",
    "You can change the value of a specific item by referring to its key name. You can also add new key-value pairs."
   ]
  },
  {
   "cell_type": "code",
   "execution_count": null,
   "metadata": {},
   "outputs": [],
   "source": [
    "# Change the age\n",
    "student[\"age\"] = 16\n",
    "print(\"Updated age:\", student[\"age\"])\n",
    "\n",
    "# Add a new key-value pair\n",
    "student[\"school\"] = \"Eastwood High\"\n",
    "print(\"Updated student info:\", student)"
   ]
  },
  {
   "cell_type": "markdown",
   "metadata": {},
   "source": [
    "### What is a Set?\n",
    "\n",
    "A set is an **unordered** collection of **unique** items. This means that an item can only appear once in a set. Sets are also created with curly braces `{}`, but they don't have key-value pairs."
   ]
  },
  {
   "cell_type": "code",
   "execution_count": null,
   "metadata": {},
   "outputs": [],
   "source": [
    "# Note that the duplicate \"apple\" is removed\n",
    "unique_fruits = {\"apple\", \"banana\", \"cherry\", \"apple\"}\n",
    "print(unique_fruits)"
   ]
  },
  {
   "cell_type": "markdown",
   "metadata": {},
   "source": [
    "Sets are useful when you need to store a collection of items but don't care about the order and need to ensure there are no duplicates."
   ]
  },
  {
   "cell_type": "markdown",
   "metadata": {},
   "source": [
    "### Practice Time!\n",
    "\n",
    "1. Create a dictionary to store information about your favorite book (e.g., title, author, year published).\n",
    "2. Print the author of the book from your dictionary."
   ]
  },
  {
   "cell_type": "code",
   "execution_count": null,
   "metadata": {},
   "outputs": [],
   "source": [
    "# Write your code here"
   ]
  },
  {
   "cell_type": "markdown",
   "metadata": {},
   "source": [
    "Excellent! Now you have even more tools for storing data.\n",
    "\n",
    "Next, we'll learn about **File I/O**, which allows your Python programs to read from and write to files."
   ]
  }
 ],
 "metadata": {
  "kernelspec": {
   "display_name": "Python 3",
   "language": "python",
   "name": "python3"
  },
  "language_info": {
   "name": "python",
   "version": "3.10.12"
  }
 },
 "nbformat": 4,
 "nbformat_minor": 5
}
