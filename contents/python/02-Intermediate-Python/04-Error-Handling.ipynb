{
 "cells": [
  {
   "cell_type": "markdown",
   "metadata": {},
   "source": [
    "# Lesson 4: Error Handling\n",
    "\n",
    "What happens when something goes wrong in our program? For example, what if we try to divide by zero, or try to open a file that doesn't exist? Our program will crash! **Error handling** allows us to manage these situations and prevent our programs from stopping unexpectedly."
   ]
  },
  {
   "cell_type": "markdown",
   "metadata": {},
   "source": [
    "### The `try...except` Block\n",
    "\n",
    "The most common way to handle errors in Python is the `try...except` block.\n",
    "\n",
    "- The code that might cause an error is placed in the `try` block.\n",
    "- The code that runs if an error occurs is placed in the `except` block."
   ]
  },
  {
   "cell_type": "code",
   "execution_count": null,
   "metadata": {},
   "outputs": [],
   "source": [
    "try:\n",
    "    numerator = 10\n",
    "    denominator = 0\n",
    "    result = numerator / denominator\n",
    "    print(result)\n",
    "except ZeroDivisionError:\n",
    "    print(\"Error: You can't divide by zero!\")"
   ]
  },
  {
   "cell_type": "markdown",
   "metadata": {},
   "source": [
    "Notice that the program didn't crash. It printed our custom error message instead."
   ]
  },
  {
   "cell_type": "markdown",
   "metadata": {},
   "source": [
    "### Handling Different Types of Errors\n",
    "\n",
    "You can have multiple `except` blocks to handle different types of specific errors."
   ]
  },
  {
   "cell_type": "code",
   "execution_count": null,
   "metadata": {},
   "outputs": [],
   "source": [
    "try:\n",
    "    # Try changing the value of x to a number, like 10\n",
    "    x = \"hello\"\n",
    "    print(x + 5)\n",
    "except FileNotFoundError:\n",
    "    print(\"Error: The file was not found.\")\n",
    "except TypeError:\n",
    "    print(\"Error: You can't add a string and an integer.\")\n",
    "except:\n",
    "    print(\"An unknown error occurred.\")"
   ]
  },
  {
   "cell_type": "markdown",
   "metadata": {},
   "source": [
    "### The `finally` Block\n",
    "\n",
    "You can also add a `finally` block. The code in this block will run no matter what, whether an error occurred or not. This is often used for cleanup actions, like closing a file."
   ]
  },
  {
   "cell_type": "code",
   "execution_count": null,
   "metadata": {},
   "outputs": [],
   "source": [
    "try:\n",
    "    f = open(\"some_file.txt\", \"w\")\n",
    "    f.write(\"Hello\")\n",
    "    # This line will cause an error\n",
    "    print(some_undefined_variable)\n",
    "except NameError:\n",
    "    print(\"Error: Variable not defined.\")\n",
    "finally:\n",
    "    f.close()\n",
    "    print(\"File is now closed.\")"
   ]
  },
  {
   "cell_type": "markdown",
   "metadata": {},
   "source": [
    "### Practice Time!\n",
    "\n",
    "Ask the user for a number. Use a `try...except` block to handle the case where the user enters something that is not a number (like text). If they enter a valid number, print its square. If they enter invalid input, print an error message."
   ]
  },
  {
   "cell_type": "code",
   "execution_count": null,
   "metadata": {},
   "outputs": [],
   "source": [
    "# Write your code here"
   ]
  },
  {
   "cell_type": "markdown",
   "metadata": {},
   "source": [
    "Excellent! Your programs are now much more robust.\n",
    "\n",
    "This concludes the lessons for Module 2. Next up is the module project: a command-line To-Do List application!"
   ]
  }
 ],
 "metadata": {
  "kernelspec": {
   "display_name": "Python 3",
   "language": "python",
   "name": "python3"
  },
  "language_info": {
   "name": "python",
   "version": "3.10.12"
  }
 },
 "nbformat": 4,
 "nbformat_minor": 5
}
