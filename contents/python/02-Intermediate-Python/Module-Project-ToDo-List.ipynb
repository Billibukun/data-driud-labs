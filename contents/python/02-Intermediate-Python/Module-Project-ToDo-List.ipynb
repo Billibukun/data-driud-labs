{
 "cells": [
  {
   "cell_type": "markdown",
   "metadata": {},
   "source": [
    "# Module 2 Project: To-Do List Application\n",
    "\n",
    "It's time for the Module 2 project! You will use lists, file I/O, loops, and conditional statements to create a persistent to-do list application that runs in the command line."
   ]
  },
  {
   "cell_type": "markdown",
   "metadata": {},
   "source": [
    "### The Goal\n",
    "\n",
    "Your application should be able to:\n",
    "1.  Display the current to-do list.\n",
    "2.  Add a new task to the list.\n",
    "3.  Mark a task as complete (i.e., remove it from the list).\n",
    "4.  Save the to-do list to a file so it's not lost when the program closes.\n",
    "5.  Load the to-do list from the file when the program starts."
   ]
  },
  {
   "cell_type": "markdown",
   "metadata": {},
   "source": [
    "### Project Structure\n",
    "\n",
    "We'll build this step by step. The core of our program will be a `while` loop that continuously asks the user for their choice until they decide to exit."
   ]
  },
  {
   "cell_type": "code",
   "execution_count": null,
   "metadata": {},
   "outputs": [],
   "source": [
    "FILENAME = \"todolist.txt\"\n",
    "\n",
    "def load_tasks():\n",
    "    \"\"\"Loads tasks from the todolist.txt file.\"\"\"\n",
    "    try:\n",
    "        with open(FILENAME, \"r\") as f:\n",
    "            tasks = f.read().splitlines()\n",
    "    except FileNotFoundError:\n",
    "        tasks = []\n",
    "    return tasks\n",
    "\n",
    "def save_tasks(tasks):\n",
    "    \"\"\"Saves the list of tasks to the todolist.txt file.\"\"\"\n",
    "    with open(FILENAME, \"w\") as f:\n",
    "        for task in tasks:\n",
    "            f.write(task + \"\\n\")\n",
    "\n",
    "def show_tasks(tasks):\n",
    "    \"\"\"Displays the list of tasks to the user.\"\"\"\n",
    "    print(\"\\n--- Your To-Do List ---\")\n",
    "    if not tasks:\n",
    "        print(\"Your list is empty!\")\n",
    "    else:\n",
    "        for i, task in enumerate(tasks, 1):\n",
    "            print(f\"{i}. {task}\")\n",
    "    print(\"-----------------------\\n\")\n",
    "\n",
    "def add_task(tasks):\n",
    "    \"\"\"Adds a new task to the list.\"\"\"\n",
    "    task = input(\"Enter the new task: \")\n",
    "    tasks.append(task)\n",
    "    print(f\"Task '{task}' added.\")\n",
    "    return tasks\n",
    "\n",
    "def remove_task(tasks):\n",
    "    \"\"\"Removes a task from the list.\"\"\"\n",
    "    show_tasks(tasks)\n",
    "    try:\n",
    "        task_num = int(input(\"Enter the number of the task to remove: \"))\n",
    "        if 1 <= task_num <= len(tasks):\n",
    "            removed_task = tasks.pop(task_num - 1)\n",
    "            print(f\"Task '{removed_task}' removed.\")\n",
    "        else:\n",
    "            print(\"Invalid task number.\")\n",
    "    except ValueError:\n",
    "        print(\"Invalid input. Please enter a number.\")\n",
    "    return tasks\n",
    "\n",
    "def main():\n",
    "    \"\"\"Main function to run the application.\"\"\"\n",
    "    tasks = load_tasks()\n",
    "    while True:\n",
    "        print(\"\\nChoose an action:\")\n",
    "        print(\"1. Show tasks\")\n",
    "        print(\"2. Add task\")\n",
    "        print(\"3. Remove task\")\n",
    "        print(\"4. Save and Quit\")\n",
    "        \n",
    "        choice = input(\"Enter your choice (1-4): \")\n",
    "        \n",
    "        if choice == '1':\n",
    "            show_tasks(tasks)\n",
    "        elif choice == '2':\n",
    "            tasks = add_task(tasks)\n",
    "        elif choice == '3':\n",
    "            tasks = remove_task(tasks)\n",
    "        elif choice == '4':\n",
    "            save_tasks(tasks)\n",
    "            print(\"Tasks saved. Goodbye!\")\n",
    "            break\n",
    "        else:\n",
    "            print(\"Invalid choice. Please enter a number from 1 to 4.\")\n",
    "\n",
    "# Run the main function\n",
    "main()"
   ]
  },
  {
   "cell_type": "markdown",
   "metadata": {},
   "source": [
    "### How to Run and Test\n",
    "\n",
    "1. Run the code cell above.\n",
    "2. The program will start and show you the menu.\n",
    "3. Try adding a few tasks.\n",
    "4. Try showing the tasks to see if they are there.\n",
    "5. Try removing a task.\n",
    "6. Choose option 4 to save and quit. This will stop the `while` loop.\n",
    "7. **Important:** Run the code cell again. Your tasks should be loaded from the `todolist.txt` file!\n",
    "\n",
    "Congratulations on building a complete and useful application! You are well on your way to becoming a proficient Python programmer."
   ]
  }
 ],
 "metadata": {
  "kernelspec": {
   "display_name": "Python 3",
   "language": "python",
   "name": "python3"
  },
  "language_info": {
   "name": "python",
   "version": "3.10.12"
  }
 },
 "nbformat": 4,
 "nbformat_minor": 5
}
