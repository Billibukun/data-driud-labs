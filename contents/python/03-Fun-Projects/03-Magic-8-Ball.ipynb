{
 "cells": [
  {
   "cell_type": "markdown",
   "metadata": {},
   "source": [
    "# Project 3: Magic 8-Ball\n",
    "\n",
    "For our final project in this module, we'll create a virtual Magic 8-Ball. The user will ask a yes/no question, and our program will give a random, mysterious answer."
   ]
  },
  {
   "cell_type": "markdown",
   "metadata": {},
   "source": [
    "### The Goal\n",
    "\n",
    "The program will:\n",
    "1. Prompt the user to ask a question.\n",
    "2. Choose a random response from a predefined list of answers.\n",
    "3. Print the response."
   ]
  },
  {
   "cell_type": "markdown",
   "metadata": {},
   "source": [
    "### A New Tool: `random.choice()`\n",
    "\n",
    "We've used `random.randint()` to get a random number. Now, we'll use `random.choice()` to pick a random element from a sequence (like a list)."
   ]
  },
  {
   "cell_type": "code",
   "execution_count": null,
   "metadata": {},
   "outputs": [],
   "source": [
    "import random\n",
    "\n",
    "colors = [\"red\", \"green\", \"blue\"]\n",
    "random_color = random.choice(colors)\n",
    "print(f\"The random color is: {random_color}\")"
   ]
  },
  {
   "cell_type": "markdown",
   "metadata": {},
   "source": [
    "### Project Steps\n",
    "\n",
    "Let's build the Magic 8-Ball."
   ]
  },
  {
   "cell_type": "code",
   "execution_count": null,
   "metadata": {},
   "outputs": [],
   "source": [
    "import random\n",
    "import time # We'll use this to pause the program for dramatic effect\n",
    "\n",
    "def magic_8_ball():\n",
    "    print(\"--- Magic 8-Ball ---\")\n",
    "    \n",
    "    # List of possible answers\n",
    "    answers = [\n",
    "        \"It is certain.\",\n",
    "        \"It is decidedly so.\",\n",
    "        \"Without a doubt.\",\n",
    "        \"Yes – definitely.\",\n",
    "        \"You may rely on it.\",\n",
    "        \"As I see it, yes.\",\n",
    "        \"Most likely.\",\n",
    "        \"Outlook good.\",\n",
    "        \"Yes.\",\n",
    "        \"Signs point to yes.\",\n",
    "        \"Reply hazy, try again.\",\n",
    "        \"Ask again later.\",\n",
    "        \"Better not tell you now.\",\n",
    "        \"Cannot predict now.\",\n",
    "        \"Concentrate and ask again.\",\n",
    "        \"Don't count on it.\",\n",
    "        \"My reply is no.\",\n",
    "        \"My sources say no.\",\n",
    "        \"Outlook not so good.\",\n",
    "        \"Very doubtful.\"\n",
    "    ]\n",
    "    \n",
    "    # Get the user's question\n",
    "    question = input(\"Ask the Magic 8-Ball a yes/no question: \")\n",
    "    \n",
    "    print(\"\\nThinking...\\n\")\n",
    "    time.sleep(2) # Pause for 2 seconds\n",
    "    \n",
    "    # Choose and print a random answer\n",
    "    random_answer = random.choice(answers)\n",
    "    print(f\"Magic 8-Ball says: {random_answer}\")\n",
    "\n",
    "# Run the function\n",
    "magic_8_ball()"
   ]
  },
  {
   "cell_type": "markdown",
   "metadata": {},
   "source": [
    "### Challenge Yourself\n",
    "\n",
    "Can you put the game in a loop so the user can ask multiple questions until they decide to quit?"
   ]
  }
 ],
 "metadata": {
  "kernelspec": {
   "display_name": "Python 3",
   "language": "python",
   "name": "python3"
  },
  "language_info": {
   "name": "python",
   "version": "3.10.12"
  }
 },
 "nbformat": 4,
 "nbformat_minor": 5
}
