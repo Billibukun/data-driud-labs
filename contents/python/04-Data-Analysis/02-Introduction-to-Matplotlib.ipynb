{
 "cells": [
  {
   "cell_type": "markdown",
   "metadata": {},
   "source": [
    "# Lesson 2: Introduction to Matplotlib\n",
    "\n",
    "Reading data is useful, but visualizing it helps us understand it much better. **Matplotlib** is the most widely used library for creating plots and charts in Python."
   ]
  },
  {
   "cell_type": "markdown",
   "metadata": {},
   "source": [
    "### Your First Plot\n",
    "\n",
    "Let's start by creating a simple bar chart to visualize the grades of the students from our dataset. First, we need to load the data again using Pandas."
   ]
  },
  {
   "cell_type": "code",
   "execution_count": null,
   "metadata": {},
   "outputs": [],
   "source": [
    "import pandas as pd\n",
    "import matplotlib.pyplot as plt # It's a standard convention to import pyplot as plt\n",
    "\n",
    "df = pd.read_csv('../data/sample_student_data.csv')\n",
    "\n",
    "# Create a bar chart\n",
    "plt.figure(figsize=(10, 6)) # Set the figure size\n",
    "plt.bar(df['Name'], df['Grade'], color='skyblue')\n",
    "\n",
    "# Add labels and title\n",
    "plt.xlabel(\"Student Name\")\n",
    "plt.ylabel(\"Grade\")\n",
    "plt.title(\"Student Grades\")\n",
    "\n",
    "# Show the plot\n",
    "plt.show()"
   ]
  },
  {
   "cell_type": "markdown",
   "metadata": {},
   "source": [
    "### Different Types of Plots\n",
    "\n",
    "Matplotlib can create many different types of plots. Let's try a scatter plot to see if there's a relationship between age and grade."
   ]
  },
  {
   "cell_type": "code",
   "execution_count": null,
   "metadata": {},
   "outputs": [],
   "source": [
    "# Create a scatter plot\n",
    "plt.figure(figsize=(8, 6))\n",
    "plt.scatter(df['Age'], df['Grade'], color='coral')\n",
    "\n",
    "# Add labels and title\n",
    "plt.xlabel(\"Age\")\n",
    "plt.ylabel(\"Grade\")\n",
    "plt.title(\"Age vs. Grade\")\n",
    "\n",
    "plt.show()"
   ]
  },
  {
   "cell_type": "markdown",
   "metadata": {},
   "source": [
    "### A Histogram\n",
    "\n",
    "A histogram is great for understanding the distribution of a single variable. Let's look at the distribution of grades."
   ]
  },
  {
   "cell_type": "code",
   "execution_count": null,
   "metadata": {},
   "outputs": [],
   "source": [
    "# Create a histogram\n",
    "plt.figure(figsize=(8, 6))\n",
    "plt.hist(df['Grade'], bins=5, color='lightgreen', edgecolor='black')\n",
    "\n",
    "# Add labels and title\n",
    "plt.xlabel(\"Grade\")\n",
    "plt.ylabel(\"Number of Students\")\n",
    "plt.title(\"Distribution of Grades\")\n",
    "\n",
    "plt.show()"
   ]
  },
  {
   "cell_type": "markdown",
   "metadata": {},
   "source": [
    "### Practice Time!\n",
    "\n",
    "Create a bar chart showing the ages of the students."
   ]
  },
  {
   "cell_type": "code",
   "execution_count": null,
   "metadata": {},
   "outputs": [],
   "source": [
    "# Write your code here"
   ]
  },
  {
   "cell_type": "markdown",
   "metadata": {},
   "source": [
    "Visualizing data is a critical skill for any data analyst or scientist.\n",
    "\n",
    "Next up is the project for this module, where you'll combine Pandas and Matplotlib to analyze a simple dataset."
   ]
  }
 ],
 "metadata": {
  "kernelspec": {
   "display_name": "Python 3",
   "language": "python",
   "name": "python3"
  },
  "language_info": {
   "name": "python",
   "version": "3.10.12"
  }
 },
 "nbformat": 4,
 "nbformat_minor": 5
}
