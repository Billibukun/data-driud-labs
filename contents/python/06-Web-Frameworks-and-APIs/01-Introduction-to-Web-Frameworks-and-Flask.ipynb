{
 "cells": [
  {
   "cell_type": "markdown",
   "metadata": {},
   "source": [
    "# Module 6: Web Frameworks & APIs with Flask\n",
    "## Lesson 1: Introduction to Web Frameworks and Flask\n",
    "\n",
    "So far, our Python programs have been running in a notebook or a simple command line. But how do you use Python to build websites and web applications? The answer is **web frameworks**."
   ]
  },
  {
   "cell_type": "markdown",
   "metadata": {},
   "source": [
    "### What is a Web Framework?\n",
    "\n",
    "A web framework is a collection of tools and libraries that makes it easier to build web applications. It handles the low-level details, like how to handle web requests, so you can focus on writing the logic for your application.\n",
    "\n",
    "Think of it like building with LEGOs. Instead of making each plastic brick from scratch, you get a kit with all the standard pieces you need. A web framework gives you the standard pieces for building a web app."
   ]
  },
  {
   "cell_type": "markdown",
   "metadata": {},
   "source": [
    "### What is Flask?\n",
    "\n",
    "**Flask** is a popular \"microframework\" for Python. It's called a microframework because it's very simple and lightweight. It gives you the absolute essentials for building a web application and lets you choose any additional tools you want to add.\n",
    "\n",
    "This makes it perfect for beginners and for building small to medium-sized applications and APIs."
   ]
  },
  {
   "cell_type": "markdown",
   "metadata": {},
   "source": [
    "### What is an API?\n",
    "\n",
    "**API** stands for **Application Programming Interface**. \n",
    "\n",
    "In simple terms, an API is a way for two computers to talk to each other. When you use an app like Instagram, your phone's app needs to get your photos and feed from Instagram's servers. It does this by making a request to Instagram's API.\n",
    "\n",
    "In web development, we often build APIs that return data, usually in a format called **JSON** (JavaScript Object Notation), instead of returning a full HTML webpage. This data can then be used by a mobile app, a different website, or another program.\n",
    "\n",
    "In the next lesson, we're going to use Flask to build our very own simple web API."
   ]
  }
 ],
 "metadata": {
  "kernelspec": {
   "display_name": "Python 3",
   "language": "python",
   "name": "python3"
  },
  "language_info": {
   "name": "python",
   "version": "3.10.12"
  }
 },
 "nbformat": 4,
 "nbformat_minor": 5
}
