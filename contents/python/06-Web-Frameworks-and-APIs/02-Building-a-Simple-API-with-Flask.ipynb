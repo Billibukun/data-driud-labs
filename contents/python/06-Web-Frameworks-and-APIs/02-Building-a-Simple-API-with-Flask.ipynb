{
 "cells": [
  {
   "cell_type": "markdown",
   "metadata": {},
   "source": [
    "# Lesson 2: Building a Simple API with Flask\n",
    "\n",
    "Let's write the code for our first web API. We'll create a simple API that returns a \"Hello, World!\" message."
   ]
  },
  {
   "cell_type": "markdown",
   "metadata": {},
   "source": [
    "### The Code\n",
    "\n",
    "The code below is what a simple Flask application looks like. We would typically save this in a Python file (e.g., `app.py`) and run it from the terminal.\n",
    "\n",
    "**Note:** Because we are in a special JupyterLite environment, running a web server directly from a notebook can be tricky. This lesson focuses on understanding the code. To run this yourself, you would save it as a `.py` file on your own computer (if you have Python installed) and run `python app.py` from your terminal."
   ]
  },
  {
   "cell_type": "code",
   "execution_count": null,
   "metadata": {},
   "outputs": [],
   "source": [
    "# 1. Import the Flask class\n",
    "from flask import Flask, jsonify\n",
    "\n",
    "# 2. Create an instance of the Flask class\n",
    "# The __name__ variable is a special Python variable that gives each file a unique name.\n",
    "app = Flask(__name__)\n",
    "\n",
    "# 3. Define a 'route'\n",
    "# A route is a URL that our application will handle.\n",
    "# The @app.route('/') decorator binds a URL to a function.\n",
    "# When a user visits the main page ('/'), this function will run.\n",
    "@app.route('/')\n",
    "def home():\n",
    "    return \"Welcome to our first Flask API!\"\n",
    "\n",
    "# 4. Define another route for our API endpoint\n",
    "# This route will return data in JSON format.\n",
    "@app.route('/api/hello')\n",
    "def hello_api():\n",
    "    # Create a Python dictionary\n",
    "    data = {'message': 'Hello, World!'}\n",
    "    # Use jsonify to convert the dictionary to a JSON response\n",
    "    return jsonify(data)\n",
    "\n",
    "# 5. A check to ensure the server only runs when the script is executed directly\n",
    "if __name__ == '__main__':\n",
    "    # This line would start the development server\n",
    "    # app.run(debug=True)\n",
    "    print(\"Flask app code is ready. To run, save as a .py file and run from the terminal.\")"
   ]
  },
  {
   "cell_type": "markdown",
   "metadata": {},
   "source": [
    "### Code Breakdown\n",
    "\n",
    "1.  **`from flask import Flask, jsonify`**: We import the necessary classes from the `flask` library.\n",
    "2.  **`app = Flask(__name__)`**: We create our web application instance.\n",
    "3.  **`@app.route('/')`**: This is a Python **decorator**. It's a special syntax that adds functionality to the function below it. This one ties the `home()` function to the root URL (`/`) of our website.\n",
    "4.  **`@app.route('/api/hello')`**: We define a second route. If you were running this server and went to `http://127.0.0.1:5000/api/hello` in your browser, you would see the JSON data.\n",
    "5.  **`jsonify(data)`**: This function from Flask correctly formats our Python dictionary into a JSON response that browsers and other applications can understand.\n",
    "6.  **`if __name__ == '__main__':`**: This is a standard Python construct. It ensures that the code inside it only runs when the file is executed as the main program."
   ]
  },
  {
   "cell_type": "markdown",
   "metadata": {},
   "source": [
    "In the next lesson, we'll discuss some important concepts related to using APIs in the real world."
   ]
  }
 ],
 "metadata": {
  "kernelspec": {
   "display_name": "Python 3",
   "language": "python",
   "name": "python3"
  },
  "language_info": {
   "name": "python",
   "version": "3.10.12"
  }
 },
 "nbformat": 4,
 "nbformat_minor": 5
}
