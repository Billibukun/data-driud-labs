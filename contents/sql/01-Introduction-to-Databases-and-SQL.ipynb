{
 "cells": [
  {
   "cell_type": "markdown",
   "metadata": {},
   "source": [
    "# Module 8: Introduction to SQL\n",
    "## Lesson 1: What are Databases and SQL?\n",
    "\n",
    "Welcome to a short course on SQL! So far, we've stored data in variables and simple text files. But for large, complex applications, we need a more robust way to store, manage, and retrieve data. That's where **databases** come in."
   ]
  },
  {
   "cell_type": "markdown",
   "metadata": {},
   "source": [
    "### What is a Database?\n",
    "\n",
    "A database is an organized collection of data, generally stored and accessed electronically from a computer system. Think of it as a very smart and powerful set of spreadsheets that are all linked together.\n",
    "\n",
    "We will be learning about **relational databases**, where data is stored in tables. A table is made up of **rows** and **columns**, just like a spreadsheet."
   ]
  },
  {
   "cell_type": "markdown",
   "metadata": {},
   "source": [
    "### What is SQL?\n",
    "\n",
    "**SQL** (often pronounced \"sequel\") stands for **Structured Query Language**. It is the standard language used to communicate with relational databases.\n",
    "\n",
    "With SQL, you can:\n",
    "-   **Query** (ask for) specific data.\n",
    "-   **Insert** new data.\n",
    "-   **Update** existing data.\n",
    "-   **Delete** data.\n",
    "-   Create new tables and even new databases."
   ]
  },
    {
   "cell_type": "markdown",
   "metadata": {},
   "source": [
    "### Running SQL in a Notebook\n",
    "\n",
    "To run real SQL queries in our Jupyter environment, we'll use a library called `duckdb-wasm`. DuckDB is a simple, file-based SQL database. The code cell below will load the necessary tools. You only need to run it once per session."
   ]
  },
  {
   "cell_type": "code",
   "execution_count": null,
   "metadata": {},
   "outputs": [],
   "source": [
    "import pyodide_http\n",
    "pyodide_http.patch_all()\n",
    "\n",
    "import pandas as pd\n",
    "import duckdb\n",
    "\n",
    "# This special command lets us run SQL queries in a cell\n",
    "%load_ext sql\n",
    "%config SqlMagic.autopandas = True\n",
    "%config SqlMagic.feedback = False\n",
    "%config SqlMagic.displaycon = False\n",
    "\n",
    "# Connect to an in-memory DuckDB database\n",
    "%sql duckdb:///:memory:\n",
    "\n",
    "print(\"SQL environment is ready!\")"
   ]
  },
  {
   "cell_type": "markdown",
   "metadata": {},
   "source": [
    "### Creating our First Table\n",
    "\n",
    "Let's create a simple table called `students` to work with. We'll use the `CREATE TABLE` command in SQL. We'll also add some data using the `INSERT INTO` command."
   ]
  },
  {
   "cell_type": "code",
   "execution_count": null,
   "metadata": {},
   "outputs": [],
   "source": [
    "%%sql\n",
    "CREATE TABLE students (StudentID int, Name varchar, Age int, Grade int);\n",
    "INSERT INTO students VALUES (1, 'Alice', 14, 90), (2, 'Bob', 15, 85), (3, 'Charlie', 14, 92);"
   ]
  },
  {
   "cell_type": "markdown",
   "metadata": {},
   "source": [
    "We have now created a `students` table with three rows of data.\n",
    "\n",
    "In the next lesson, we will learn how to retrieve this data using the most common SQL command: `SELECT`."
   ]
  }
 ],
 "metadata": {
  "kernelspec": {
   "display_name": "Python 3",
   "language": "python",
   "name": "python3"
  },
  "language_info": {
   "name": "python",
   "version": "3.10.12"
  }
 },
 "nbformat": 4,
 "nbformat_minor": 5
}
