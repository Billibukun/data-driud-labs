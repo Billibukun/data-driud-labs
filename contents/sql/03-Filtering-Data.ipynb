{
 "cells": [
  {
   "cell_type": "markdown",
   "metadata": {},
   "source": [
    "# Lesson 3: Filtering Data with `WHERE`\n",
    "\n",
    "Usually, you don't want to retrieve every single row from a table. The `WHERE` clause is used to filter records and extract only those that fulfill a specified condition."
   ]
  },
  {
   "cell_type": "markdown",
   "metadata": {},
   "source": [
    "### Setup\n",
    "\n",
    "First, let's run the setup code again to initialize our database and create the `students` table."
   ]
  },
  {
   "cell_type": "code",
   "execution_count": null,
   "metadata": {},
   "outputs": [],
   "source": [
    "import pyodide_http\n",
    "pyodide_http.patch_all()\n",
    "import pandas as pd\n",
    "import duckdb\n",
    "%load_ext sql\n",
    "%config SqlMagic.autopandas = True\n",
    "%config SqlMagic.feedback = False\n",
    "%config SqlMagic.displaycon = False\n",
    "%sql duckdb:///:memory:\n",
    "\n",
    "%%sql\n",
    "CREATE TABLE students (StudentID int, Name varchar, Age int, Grade int);\n",
    "INSERT INTO students VALUES (1, 'Alice', 14, 90), (2, 'Bob', 15, 85), (3, 'Charlie', 14, 92);"
   ]
  },
  {
   "cell_type": "markdown",
   "metadata": {},
   "source": [
    "### Basic Filtering\n",
    "\n",
    "Let's select only the students who are 14 years old."
   ]
  },
  {
   "cell_type": "code",
   "execution_count": null,
   "metadata": {},
   "outputs": [],
   "source": [
    "%%sql\n",
    "SELECT * FROM students WHERE Age = 14;"
   ]
  },
  {
   "cell_type": "markdown",
   "metadata": {},
   "source": [
    "### Using Other Operators\n",
    "\n",
    "You can use other comparison operators like `>`, `<`, `>=`, `<=`, and `!=` (or `<>`). Let's find all students with a grade greater than 90."
   ]
  },
  {
   "cell_type": "code",
   "execution_count": null,
   "metadata": {},
   "outputs": [],
   "source": [
    "%%sql\n",
    "SELECT * FROM students WHERE Grade > 90;"
   ]
  },
  {
   "cell_type": "markdown",
   "metadata": {},
   "source": [
    "### Combining Conditions with `AND` and `OR`\n",
    "\n",
    "You can combine multiple conditions using `AND` (both conditions must be true) and `OR` (at least one condition must be true)."
   ]
  },
  {
   "cell_type": "code",
   "execution_count": null,
   "metadata": {},
   "outputs": [],
   "source": [
    "-- Find students who are 14 AND have a grade over 90\n",
    "%%sql\n",
    "SELECT * FROM students WHERE Age = 14 AND Grade > 90;"
   ]
  },
  {
   "cell_type": "markdown",
   "metadata": {},
   "source": [
    "In the final lesson of this module, you'll learn how to modify data using `INSERT`, `UPDATE`, and `DELETE`."
   ]
  }
 ],
 "metadata": {
  "kernelspec": {
   "display_name": "Python 3",
   "language": "python",
   "name": "python3"
  },
  "language_info": {
   "name": "python",
   "version": "3.10.12"
  }
 },
 "nbformat": 4,
 "nbformat_minor": 5
}
