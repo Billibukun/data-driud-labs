{
 "cells": [
  {
   "cell_type": "markdown",
   "metadata": {},
   "source": [
    "# Lesson 2: JavaScript Fundamentals\n",
    "\n",
    "Let's cover the basic syntax of JavaScript. If you're comfortable with Python, you'll see that the concepts are very similar, even if the syntax is a little different."
   ]
  },
  {
   "cell_type": "markdown",
   "metadata": {},
   "source": [
    "### Variables\n",
    "\n",
    "In modern JavaScript, we declare variables using `let` (for variables that can be reassigned) and `const` (for constants, whose value cannot be changed after creation)."
   ]
  },
  {
   "cell_type": "code",
   "execution_count": null,
   "metadata": {},
   "outputs": [],
   "source": [
    "let message = \"Hello, world!\";\n",
    "console.log(message); // Prints: Hello, world!\n",
    "\n",
    "message = \"Hello again!\"; // This is allowed with let\n",
    "console.log(message);\n",
    "\n",
    "const pi = 3.14;\n",
    "// pi = 3.14159; // This would cause an error!"
   ],
   "language": "javascript"
  },
  {
   "cell_type": "markdown",
   "metadata": {},
   "source": [
    "### Data Types\n",
    "\n",
    "JavaScript has several data types, similar to Python:\n",
    "- **String**: `\"Hello\"` or `'Hello'`\n",
    "- **Number**: For both integers and floats, like `10` or `3.14`\n",
    "- **Boolean**: `true` or `false` (note the lowercase)\n",
    "- **Object**: A collection of key-value pairs, like Python's dictionary. `{ name: 'Alice', age: 15 }`\n",
    "- **Array**: A list of items, like Python's list. `[ 'apple', 'banana', 'cherry' ]`"
   ]
  },
  {
   "cell_type": "markdown",
   "metadata": {},
   "source": [
    "### Functions\n",
    "\n",
    "Functions are defined using the `function` keyword. They are blocks of code that perform a specific task, just like in Python."
   ]
  },
  {
   "cell_type": "code",
   "execution_count": null,
   "metadata": {},
   "outputs": [],
   "source": [
    "function greet(name) {\n",
    "  return \"Hello, \" + name + \"!\";\n",
    "}\n",
    "\n",
    "const greeting = greet(\"Bob\");\n",
    "console.log(greeting);"
   ],
   "language": "javascript"
  },
  {
   "cell_type": "markdown",
   "metadata": {},
   "source": [
    "### Conditionals and Loops\n",
    "\n",
    "The syntax for `if` statements and `for` loops is also very similar to other C-style languages."
   ]
  },
  {
   "cell_type": "code",
   "execution_count": null,
   "metadata": {},
   "outputs": [],
   "source": [
    "let age = 18;\n",
    "\n",
    "if (age >= 18) {\n",
    "  console.log(\"You are an adult.\");\n",
    "} else {\n",
    "  console.log(\"You are not an adult.\");\n",
    "}\n",
    "\n",
    "for (let i = 0; i < 5; i++) {\n",
    "  console.log(\"The number is \" + i);\n",
    "}"
   ],
   "language": "javascript"
  },
  {
   "cell_type": "markdown",
   "metadata": {},
   "source": [
    "In the next lesson, we'll see how JavaScript interacts with HTML to make web pages dynamic."
   ]
  }
 ],
 "metadata": {
  "kernelspec": {
   "display_name": "JavaScript",
   "language": "javascript",
   "name": "javascript"
  },
  "language_info": {
   "name": "javascript"
  }
 },
 "nbformat": 4,
 "nbformat_minor": 5
}
