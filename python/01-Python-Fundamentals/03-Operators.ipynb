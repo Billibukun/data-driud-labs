{
 "cells": [
  {
   "cell_type": "markdown",
   "metadata": {},
   "source": [
    "# Lesson 3: Operators\n",
    "\n",
    "Now that you know how to store data in variables, let's learn how to perform operations on them. We use **operators** for this."
   ]
  },
  {
   "cell_type": "markdown",
   "metadata": {},
   "source": [
    "### 1. Arithmetic Operators\n",
    "\n",
    "These are used to perform mathematical calculations."
   ]
  },
  {
   "cell_type": "code",
   "execution_count": null,
   "metadata": {},
   "outputs": [],
   "source": [
    "a = 10\n",
    "b = 3\n",
    "\n",
    "print(\"Addition:\", a + b)       # Addition\n",
    "print(\"Subtraction:\", a - b)    # Subtraction\n",
    "print(\"Multiplication:\", a * b) # Multiplication\n",
    "print(\"Division:\", a / b)         # Division\n",
    "print(\"Floor Division:\", a // b) # Division, rounded down to the nearest whole number\n",
    "print(\"Modulus:\", a % b)        # Remainder of the division\n",
    "print(\"Exponent:\", a ** b)      # a to the power of b"
   ]
  },
  {
   "cell_type": "markdown",
   "metadata": {},
   "source": [
    "### 2. Comparison Operators\n",
    "\n",
    "These are used to compare two values. The result is always a Boolean (`True` or `False`)."
   ]
  },
  {
   "cell_type": "code",
   "execution_count": null,
   "metadata": {},
   "outputs": [],
   "source": [
    "x = 5\n",
    "y = 10\n",
    "\n",
    "print(\"Is x equal to y?\", x == y)          # Equal to\n",
    "print(\"Is x not equal to y?\", x != y)      # Not equal to\n",
    "print(\"Is x greater than y?\", x > y)      # Greater than\n",
    "print(\"Is x less than y?\", x < y)          # Less than\n",
    "print(\"Is x greater or equal to y?\", x >= y) # Greater than or equal to\n",
    "print(\"Is x less than or equal to y?\", x <= y)  # Less than or equal to"
   ]
  },
  {
   "cell_type": "markdown",
   "metadata": {},
   "source": [
    "### 3. Logical Operators\n",
    "\n",
    "These are used to combine conditional statements."
   ]
  },
  {
   "cell_type": "code",
   "execution_count": null,
   "metadata": {},
   "outputs": [],
   "source": [
    "p = True\n",
    "q = False\n",
    "\n",
    "print(\"p and q:\", p and q) # and: returns True if both are True\n",
    "print(\"p or q:\", p or q)   # or: returns True if at least one is True\n",
    "print(\"not p:\", not p)      # not: returns the opposite Boolean value"
   ]
  },
  {
   "cell_type": "markdown",
   "metadata": {},
   "source": [
    "### Practice Time!\n",
    "\n",
    "1. Calculate the area of a rectangle with a width of 5 and a height of 8.\n",
    "2. Check if 100 is greater than 50.\n",
    "3. Check if your age is greater than 13 AND less than 19."
   ]
  },
  {
   "cell_type": "code",
   "execution_count": null,
   "metadata": {},
   "outputs": [],
   "source": [
    "# Write your code for the practice problems here"
   ]
  },
  {
   "cell_type": "markdown",
   "metadata": {},
   "source": [
    "Excellent work! You've learned how to use operators to work with your data.\n",
    "\n",
    "Next up, we will learn about **control flow** and how to make decisions in your code using `if` statements."
   ]
  }
 ],
 "metadata": {
  "kernelspec": {
   "display_name": "Python 3",
   "language": "python",
   "name": "python3"
  },
  "language_info": {
   "name": "python",
   "version": "3.10.12"
  }
 },
 "nbformat": 4,
 "nbformat_minor": 5
}
