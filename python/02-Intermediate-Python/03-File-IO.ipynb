{
 "cells": [
  {
   "cell_type": "markdown",
   "metadata": {},
   "source": [
    "# Lesson 3: File I/O (Input/Output)\n",
    "\n",
    "So far, all the data we've used in our programs disappears when the program ends. To store data permanently, we need to save it to a **file**. In this lesson, you'll learn how to read from and write to files."
   ]
  },
  {
   "cell_type": "markdown",
   "metadata": {},
   "source": [
    "### Writing to a File\n",
    "\n",
    "To write to a file, you first need to `open()` it in write mode (`'w'`). If the file doesn't exist, Python will create it. If it does exist, **it will be overwritten**."
   ]
  },
  {
   "cell_type": "code",
   "execution_count": null,
   "metadata": {},
   "outputs": [],
   "source": [
    "# The 'with' statement is the recommended way to work with files.\n",
    "# It automatically closes the file for you when you're done.\n",
    "with open(\"my_first_file.txt\", \"w\") as f:\n",
    "    f.write(\"Hello, file!\\n\")\n",
    "    f.write(\"This is the second line.\\n\")\n",
    "\n",
    "print(\"File written successfully!\")"
   ]
  },
  {
   "cell_type": "markdown",
   "metadata": {},
   "source": [
    "### Reading from a File\n",
    "\n",
    "To read a file, you open it in read mode (`'r'`)."
   ]
  },
  {
   "cell_type": "code",
   "execution_count": null,
   "metadata": {},
   "outputs": [],
   "source": [
    "with open(\"my_first_file.txt\", \"r\") as f:\n",
    "    content = f.read()\n",
    "    print(content)"
   ]
  },
    {
   "cell_type": "markdown",
   "metadata": {},
   "source": [
    "### Appending to a File\n",
    "\n",
    "If you want to add content to an existing file without overwriting it, you can open it in append mode (`'a'`)."
   ]
  },
  {
   "cell_type": "code",
   "execution_count": null,
   "metadata": {},
   "outputs": [],
   "source": [
    "with open(\"my_first_file.txt\", \"a\") as f:\n",
    "    f.write(\"This is a new line added later.\\n\")\n",
    "\n",
    "print(\"File appended successfully!\")"
   ]
  },
  {
   "cell_type": "markdown",
   "metadata": {},
   "source": [
    "Let's read the file again to see the appended content."
   ]
  },
  {
   "cell_type": "code",
   "execution_count": null,
   "metadata": {},
   "outputs": [],
   "source": [
    "with open(\"my_first_file.txt\", \"r\") as f:\n",
    "    content = f.read()\n",
    "    print(content)"
   ]
  },
  {
   "cell_type": "markdown",
   "metadata": {},
   "source": [
    "### Practice Time!\n",
    "\n",
    "1. Create a file called `shopping_list.txt`.\n",
    "2. Write three items you want to buy to the file, each on a new line.\n",
    "3. Read the file and print its contents."
   ]
  },
  {
   "cell_type": "code",
   "execution_count": null,
   "metadata": {},
   "outputs": [],
   "source": [
    "# Write your code here"
   ]
  },
  {
   "cell_type": "markdown",
   "metadata": {},
   "source": [
    "Being able to work with files is a very important skill.\n",
    "\n",
    "Next, we'll learn about **Error Handling**, which helps our programs deal with unexpected situations gracefully."
   ]
  }
 ],
 "metadata": {
  "kernelspec": {
   "display_name": "Python 3",
   "language": "python",
   "name": "python3"
  },
  "language_info": {
   "name": "python",
   "version": "3.10.12"
  }
 },
 "nbformat": 4,
 "nbformat_minor": 5
}
