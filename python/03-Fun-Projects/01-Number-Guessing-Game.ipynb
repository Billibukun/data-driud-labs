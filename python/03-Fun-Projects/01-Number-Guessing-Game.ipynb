{
 "cells": [
  {
   "cell_type": "markdown",
   "metadata": {},
   "source": [
    "# Module 3: Fun Foundational Projects\n",
    "## Project 1: Number Guessing Game\n",
    "\n",
    "Welcome to Module 3! In this module, we'll focus on building fun projects to practice and reinforce the skills you learned in Modules 1 and 2. Let's start with a classic game."
   ]
  },
  {
   "cell_type": "markdown",
   "metadata": {},
   "source": [
    "### The Goal\n",
    "\n",
    "We will create a game where the computer thinks of a random number between 1 and 100, and the player has to guess it. The computer will give hints like \"Too high!\" or \"Too low!\" until the player guesses the correct number."
   ]
  },
  {
   "cell_type": "markdown",
   "metadata": {},
   "source": [
    "### A New Tool: The `random` module\n",
    "\n",
    "To make the computer think of a random number, we need to use Python's built-in `random` module. A module is a file containing Python code that someone else wrote, which we can import and use in our programs.\n",
    "\n",
    "We'll use the `random.randint(a, b)` function, which returns a random integer between `a` and `b` (inclusive)."
   ]
  },
  {
   "cell_type": "code",
   "execution_count": null,
   "metadata": {},
   "outputs": [],
   "source": [
    "import random # First, we import the module\n",
    "\n",
    "secret_number = random.randint(1, 100)\n",
    "print(\"I'm thinking of a number between 1 and 100...\")"
   ]
  },
  {
   "cell_type": "markdown",
   "metadata": {},
   "source": [
    "### Project Steps\n",
    "\n",
    "Let's build the game logic. We'll need a `while` loop to keep the game going until the player guesses correctly."
   ]
  },
  {
   "cell_type": "code",
   "execution_count": null,
   "metadata": {},
   "outputs": [],
   "source": [
    "import random\n",
    "\n",
    "secret_number = random.randint(1, 100)\n",
    "guess = 0 # Initialize guess to a number that can't be the secret number\n",
    "\n",
    "print(\"--- Number Guessing Game ---\")\n",
    "print(\"I have selected a secret number between 1 and 100.\")\n",
    "print(\"Try to guess it!\")\n",
    "\n",
    "while guess != secret_number:\n",
    "    # Get the player's guess\n",
    "    # Use a try-except block to handle non-numeric input\n",
    "    try:\n",
    "        guess = int(input(\"Your guess: \"))\n",
    "    except ValueError:\n",
    "        print(\"That's not a number! Please try again.\")\n",
    "        continue # Skip the rest of the loop and start over\n",
    "\n",
    "    # Compare the guess to the secret number and give a hint\n",
    "    if guess < secret_number:\n",
    "        print(\"Too low!\")\n",
    "    elif guess > secret_number:\n",
    "        print(\"Too high!\")\n",
    "    else:\n",
    "        print(f\"Congratulations! You guessed it! The secret number was {secret_number}.\")\n",
    "\n",
    "print(\"--- Game Over ---\")"
   ]
  },
  {
   "cell_type": "markdown",
   "metadata": {},
   "source": [
    "### Challenge Yourself\n",
    "\n",
    "Can you improve the game? Here are some ideas:\n",
    "- Limit the number of guesses the player has.\n",
    "- Keep track of how many guesses it took the player to win.\n",
    "- After the game is over, ask the player if they want to play again."
   ]
  }
 ],
 "metadata": {
  "kernelspec": {
   "display_name": "Python 3",
   "language": "python",
   "name": "python3"
  },
  "language_info": {
   "name": "python",
   "version": "3.10.12"
  }
 },
 "nbformat": 4,
 "nbformat_minor": 5
}
