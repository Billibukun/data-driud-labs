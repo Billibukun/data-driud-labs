{
 "cells": [
  {
   "cell_type": "markdown",
   "metadata": {},
   "source": [
    "# Project 2: Mad Libs Generator\n",
    "\n",
    "Let's build another fun project! A Mad Libs game is a story where key words are replaced with words provided by the player. This project is great for practicing user input and string manipulation."
   ]
  },
  {
   "cell_type": "markdown",
   "metadata": {},
   "source": [
    "### The Goal\n",
    "\n",
    "Our program will have a story with blank spaces (e.g., for a noun, verb, adjective). It will ask the player to provide words for these blanks and then print the completed, often funny, story."
   ]
  },
  {
   "cell_type": "markdown",
   "metadata": {},
   "source": [
    "### A New Tool: f-Strings\n",
    "\n",
    "We've used the `+` operator to combine strings, but there's a more modern and readable way: **f-strings**. An f-string is a string literal that starts with `f` and has expressions inside curly braces `{}` that are replaced with their values."
   ]
  },
  {
   "cell_type": "code",
   "execution_count": null,
   "metadata": {},
   "outputs": [],
   "source": [
    "name = \"Alice\"\n",
    "age = 15\n",
    "\n",
    "# Using the + operator\n",
    "print(\"My name is \" + name + \" and I am \" + str(age) + \" years old.\")\n",
    "\n",
    "# Using an f-string\n",
    "print(f\"My name is {name} and I am {age} years old.\")"
   ]
  },
  {
   "cell_type": "markdown",
   "metadata": {},
   "source": [
    "As you can see, the f-string is cleaner and easier to read!"
   ]
  },
  {
   "cell_type": "markdown",
   "metadata": {},
   "source": [
    "### Project Steps\n",
    "\n",
    "Let's build the generator."
   ]
  },
  {
   "cell_type": "code",
   "execution_count": null,
   "metadata": {},
   "outputs": [],
   "source": [
    "print(\"--- Mad Libs Generator ---\")\n",
    "print(\"Please provide the following words:\")\n",
    "\n",
    "# Get words from the user\n",
    "adjective = input(\"An adjective: \")\n",
    "noun = input(\"A noun (plural): \")\n",
    "verb_past_tense = input(\"A verb (past tense): \")\n",
    "adverb = input(\"An adverb: \")\n",
    "another_adjective = input(\"Another adjective: \")\n",
    "another_noun = input(\"Another noun: \")\n",
    "\n",
    "# The story template\n",
    "story = f\"\"\"Today I went to the zoo. I saw a(n) {adjective} \n",
    "       {noun} jumping up and down in its tree. \n",
    "       He {verb_past_tense} {adverb} through the large tunnel \n",
    "       that led to its {another_adjective} {another_noun}. I got \n",
    "       some peanuts and passed them through the cage to a gigantic \n",
    "       gorilla who stuffed them in his mouth. It was a fun day!\"\"\"\n",
    "\n",
    "print(\"\\n--- Here is your story! ---\")\n",
    "print(story)"
   ]
  },
  {
   "cell_type": "markdown",
   "metadata": {},
   "source": [
    "### Challenge Yourself\n",
    "\n",
    "Can you create your own Mad Libs story? Try writing a new story template and asking the user for different types of words."
   ]
  }
 ],
 "metadata": {
  "kernelspec": {
   "display_name": "Python 3",
   "language": "python",
   "name": "python3"
  },
  "language_info": {
   "name": "python",
   "version": "3.10.12"
  }
 },
 "nbformat": 4,
 "nbformat_minor": 5
}
