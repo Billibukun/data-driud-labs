{
 "cells": [
  {
   "cell_type": "markdown",
   "metadata": {},
   "source": [
    "# Module 7: Real-World AI Application Project\n",
    "## Project: Build an AI Joke Bot\n",
    "\n",
    "It's time to combine everything you've learned to build a fun application that interacts with a real, live API on the internet! We are going to build a bot that tells us programming jokes."
   ]
  },
  {
   "cell_type": "markdown",
   "metadata": {},
   "source": [
    "### The Goal\n",
    "\n",
    "Our program will:\n",
    "1.  Make a request to an external API to get a random programming joke.\n",
    "2.  Parse the JSON response to get the joke's setup and punchline.\n",
    "3.  Display the joke to the user in a fun way.\n",
    "4.  Ask the user if they want another joke."
   ]
  },
  {
   "cell_type": "markdown",
   "metadata": {},
   "source": [
    "### A New Tool: The `requests` library\n",
    "\n",
    "While Python has built-in ways to make web requests, the `requests` library makes it much, much easier. It's the standard way to handle HTTP requests in Python.\n",
    "\n",
    "To use it, we first need to make sure it's installed. In many Jupyter environments, it's already available. We'll use the `requests.get()` function to fetch data from a URL."
   ]
  },
  {
   "cell_type": "markdown",
   "metadata": {},
   "source": [
    "### The API: [JokeAPI](https://sv443.net/jokeapi/v2/)\n",
    "\n",
    "We'll be using JokeAPI, a fantastic free and open-source API for jokes. It doesn't require an API key, so we can use it right away.\n",
    "\n",
    "The specific URL we will use is: `https://v2.jokeapi.dev/joke/Programming?type=twopart`\n",
    "- `/joke/Programming`: This tells the API we want a joke from the 'Programming' category.\n",
    "- `?type=twopart`: This is a query parameter that tells the API we only want jokes that have a separate 'setup' and 'punchline'."
   ]
  },
  {
   "cell_type": "markdown",
   "metadata": {},
   "source": [
    "### Project Steps"
   ]
  },
  {
   "cell_type": "code",
   "execution_count": null,
   "metadata": {},
   "outputs": [],
   "source": [
    "import requests\n",
    "import time\n",
    "\n",
    "def get_joke():\n",
    "    \"\"\"Fetches a programming joke from the JokeAPI.\"\"\"\n",
    "    try:\n",
    "        # The API endpoint URL\n",
    "        url = \"https://v2.jokeapi.dev/joke/Programming?type=twopart\"\n",
    "        \n",
    "        # Make the request to the API\n",
    "        response = requests.get(url)\n",
    "        \n",
    "        # Raise an exception if the request was unsuccessful\n",
    "        response.raise_for_status()\n",
    "        \n",
    "        # Parse the JSON response into a Python dictionary\n",
    "        joke_data = response.json()\n",
    "        \n",
    "        if not joke_data['error']:\n",
    "            print(f\"\\nSetup: {joke_data['setup']}\")\n",
    "            time.sleep(2) # Dramatic pause for the punchline\n",
    "            print(f\"Punchline: {joke_data['punchline']}\")\n",
    "        else:\n",
    "            print(\"Sorry, could not fetch a joke at this time.\")\n",
    "            \n",
    "    except requests.exceptions.RequestException as e:\n",
    "        print(f\"An error occurred: {e}\")\n",
    "\n",
    "def main():\n",
    "    \"\"\"Main function to run the joke bot.\"\"\"\n",
    "    print(\"--- AI Joke Bot ---\")\n",
    "    while True:\n",
    "        get_joke()\n",
    "        \n",
    "        another = input(\"\\nWould you like another joke? (yes/no): \").lower()\n",
    "        if another != 'yes':\n",
    "            print(\"Thanks for playing!\")\n",
    "            break\n",
    "\n",
    "# Run the main function\n",
    "main()"
   ]
  },
  {
   "cell_type": "markdown",
   "metadata": {},
   "source": [
    "### Congratulations!\n",
    "\n",
    "You've built a program that communicates with the outside world! You used the `requests` library to talk to a real API, handled the JSON data it sent back, and created a fun, interactive application for the user. This project demonstrates a complete, real-world development cycle."
   ]
  }
 ],
 "metadata": {
  "kernelspec": {
   "display_name": "Python 3",
   "language": "python",
   "name": "python3"
  },
  "language_info": {
   "name": "python",
   "version": "3.10.12"
  }
 },
 "nbformat": 4,
 "nbformat_minor": 5
}
